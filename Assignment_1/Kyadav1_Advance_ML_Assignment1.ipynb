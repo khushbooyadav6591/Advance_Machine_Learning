{
  "nbformat": 4,
  "nbformat_minor": 0,
  "metadata": {
    "colab": {
      "name": "Kyadav1_Advance_ML_Assignment1.ipynb",
      "provenance": [],
      "collapsed_sections": [],
      "authorship_tag": "ABX9TyOczhJngBO8NjQXw8lA1kRX",
      "include_colab_link": true
    },
    "kernelspec": {
      "name": "python3",
      "display_name": "Python 3"
    }
  },
  "cells": [
    {
      "cell_type": "markdown",
      "metadata": {
        "id": "view-in-github",
        "colab_type": "text"
      },
      "source": [
        "<a href=\"https://colab.research.google.com/github/khushbooyadav6591/Advance_Machine_Learning/blob/main/Kyadav1_Advance_ML_Assignment1.ipynb\" target=\"_parent\"><img src=\"https://colab.research.google.com/assets/colab-badge.svg\" alt=\"Open In Colab\"/></a>"
      ]
    },
    {
      "cell_type": "markdown",
      "metadata": {
        "id": "vG18wfdbuHeO"
      },
      "source": [
        "\n",
        "\n",
        "---\n",
        "\n",
        "\n",
        "**Assignment** : Advance Machine Learning Assignment 1\n",
        "\n",
        "\n",
        "\n",
        "---\n",
        "\n",
        "\n",
        "\n",
        "\n",
        "*   **Author** : Khushboo Yadav\n",
        "*   **Data**   : IMDB dataset\n",
        "*   **Goal**   : To explore and extend original Neural Network model\n",
        "￼￼￼\n",
        "\n",
        "\n",
        "---\n",
        "\n",
        "\n",
        "\n",
        "\n",
        "\n",
        "\n",
        "\n",
        "\n",
        "\n",
        "\n"
      ]
    },
    {
      "cell_type": "markdown",
      "metadata": {
        "id": "YvFSI-XLC959"
      },
      "source": [
        "\n",
        "\n",
        "\n",
        "#**Original Model**\n",
        "\n",
        "\n",
        "\n",
        "#### Key Features of the original model:-\n",
        "\n",
        "\n",
        "* 16 nodes in each layer\n",
        "\n",
        "* relu activation function\n",
        "\n",
        "* Optimiser: rmsprop\n",
        "\n",
        "* loss function: binary_crossentrophy\n",
        "\n",
        "We are considering this model as original model and will be using its results for understanding of neural networks and performing some experimental changes to improve the performance of the model.\n",
        "\n",
        "\n",
        "\n",
        "\n",
        "\n",
        "\n",
        "\n",
        "\n",
        "\n",
        "\n",
        "\n",
        "\n",
        "\n",
        "\n",
        "\n",
        "\n",
        "\n"
      ]
    },
    {
      "cell_type": "code",
      "metadata": {
        "id": "dS2lPr9CuR6m"
      },
      "source": [
        "#Importing libraries\n",
        "\n",
        "import keras\n",
        "keras.__version__\n",
        "import pandas as pd\n",
        "import matplotlib.pyplot as plt # plotting\n",
        "import random\n"
      ],
      "execution_count": 11,
      "outputs": []
    },
    {
      "cell_type": "code",
      "metadata": {
        "id": "U1xes8p0vGd4"
      },
      "source": [
        "#Import imdb dataset\n",
        "from keras.datasets import imdb\n"
      ],
      "execution_count": 12,
      "outputs": []
    },
    {
      "cell_type": "code",
      "metadata": {
        "id": "BlplwVj8uuLi"
      },
      "source": [
        "#Import train and test data from imdb data\n",
        "(train_data,train_labels),(test_data,test_labels)=imdb.load_data(num_words=10000)\n"
      ],
      "execution_count": null,
      "outputs": []
    },
    {
      "cell_type": "code",
      "metadata": {
        "id": "9MN0KBDbvsGG"
      },
      "source": [
        "\n",
        "# word_index is a dictionary mapping words to an integer index\n",
        "word_index = imdb.get_word_index()\n",
        "# We reverse it, mapping integer indices to words\n",
        "reverse_word_index = dict([(value, key) for (key, value) in word_index.items()])\n",
        "# We decode the review; note that our indices were offset by 3\n",
        "# because 0, 1 and 2 are reserved indices for \"padding\", \"start of sequence\", and \"unknown\".\n",
        "decoded_review = ' '.join([reverse_word_index.get(i - 3, '?') for i in train_data[0]])\n",
        "\n",
        "import numpy as np\n",
        "\n",
        "def vectorize_sequences(sequences, dimension=10000):\n",
        "    # Create an all-zero matrix of shape (len(sequences), dimension)\n",
        "    results = np.zeros((len(sequences), dimension))\n",
        "    for i, sequence in enumerate(sequences):\n",
        "        results[i, sequence] = 1.  # set specific indices of results[i] to 1s\n",
        "    return results\n",
        "\n",
        "# Our vectorized training data\n",
        "x_train = vectorize_sequences(train_data)\n",
        "# Our vectorized test data\n",
        "x_test = vectorize_sequences(test_data)\n",
        "\n",
        "# Our vectorized labels\n",
        "y_train = np.asarray(train_labels).astype('float32')\n",
        "y_test = np.asarray(test_labels).astype('float32')"
      ],
      "execution_count": 14,
      "outputs": []
    },
    {
      "cell_type": "code",
      "metadata": {
        "id": "do6p9r8GpFob",
        "colab": {
          "base_uri": "https://localhost:8080/",
          "height": 1000
        },
        "collapsed": true,
        "outputId": "e925b37d-4d55-4919-af04-78eef77665d9"
      },
      "source": [
        "#Network Building\n",
        "from keras import models\n",
        "from keras import layers\n",
        "import tensorflow as tf\n",
        "tf.random.set_seed(7)\n",
        "\n",
        "orig_model = models.Sequential()\n",
        "orig_model.add(layers.Dense(16, activation='relu', input_shape=(10000,)))\n",
        "orig_model.add(layers.Dense(16, activation='relu'))\n",
        "orig_model.add(layers.Dense(1, activation='sigmoid'))\n",
        "\n",
        "orig_model.summary()\n",
        "\n",
        "# Configure Model: with the rmsprop optimizer and the binary_crossentropy loss function. \n",
        "orig_model.compile(optimizer='rmsprop',\n",
        "              loss='binary_crossentropy',\n",
        "              metrics=['accuracy'])\n",
        "\n",
        "\n",
        "# Creating Validation Set: setting apart 10,000 samples from the original training data:\n",
        "\n",
        "x_val = x_train[:10000]\n",
        "partial_x_train = x_train[10000:]\n",
        "\n",
        "y_val = y_train[:10000]\n",
        "partial_y_train = y_train[10000:]\n",
        "\n",
        "\n",
        "# Model Training\n",
        "orig_history = orig_model.fit(partial_x_train,\n",
        "                    partial_y_train,\n",
        "                    epochs=20,\n",
        "                    batch_size=512,\n",
        "                    validation_data=(x_val, y_val))\n",
        "\n",
        "orig_history_dict = orig_history.history\n",
        "orig_history_dict.keys()\n",
        "\n",
        "# Matplotlib to plot the training and validation loss side by side, as well as the training and validation accuracy:\n",
        "\n",
        "import matplotlib.pyplot as plt\n",
        "\n",
        "orig_accuracy = orig_history.history['accuracy']\n",
        "orig_val_accuracy = orig_history.history['val_accuracy']\n",
        "orig_loss = orig_history.history['loss']\n",
        "orig_val_loss = orig_history.history['val_loss']\n",
        "\n",
        "epochs = range(1, len(orig_accuracy) + 1)\n",
        "\n",
        "# \"bo\" is for \"blue dot\"\n",
        "plt.plot(epochs, orig_loss, 'bo', label='Training loss')\n",
        "# b is for \"solid blue line\"\n",
        "plt.plot(epochs, orig_val_loss, 'b', label='Validation loss')\n",
        "plt.title('Training and validation loss')\n",
        "plt.xlabel('Epochs')\n",
        "plt.ylabel('Loss')\n",
        "plt.legend()\n",
        "\n",
        "plt.show()\n",
        "\n",
        "plt.clf()   # clear figure\n",
        "orig_acc_values = orig_history_dict['accuracy']\n",
        "orig_val_acc_values = orig_history_dict['val_accuracy']\n",
        "\n",
        "plt.plot(epochs, orig_accuracy, 'bo', label='Training acc')\n",
        "plt.plot(epochs, orig_val_accuracy, 'b', label='Validation acc')\n",
        "plt.title('Training and validation accuracy')\n",
        "plt.xlabel('Epochs')\n",
        "plt.ylabel('Loss')\n",
        "plt.legend()\n",
        "\n",
        "plt.show()\n"
      ],
      "execution_count": 15,
      "outputs": [
        {
          "output_type": "stream",
          "text": [
            "Model: \"sequential_6\"\n",
            "_________________________________________________________________\n",
            "Layer (type)                 Output Shape              Param #   \n",
            "=================================================================\n",
            "dense_17 (Dense)             (None, 16)                160016    \n",
            "_________________________________________________________________\n",
            "dense_18 (Dense)             (None, 16)                272       \n",
            "_________________________________________________________________\n",
            "dense_19 (Dense)             (None, 1)                 17        \n",
            "=================================================================\n",
            "Total params: 160,305\n",
            "Trainable params: 160,305\n",
            "Non-trainable params: 0\n",
            "_________________________________________________________________\n",
            "Epoch 1/20\n",
            "30/30 [==============================] - 2s 40ms/step - loss: 0.5968 - accuracy: 0.6990 - val_loss: 0.3999 - val_accuracy: 0.8717\n",
            "Epoch 2/20\n",
            "30/30 [==============================] - 1s 32ms/step - loss: 0.3351 - accuracy: 0.9055 - val_loss: 0.3130 - val_accuracy: 0.8867\n",
            "Epoch 3/20\n",
            "30/30 [==============================] - 1s 31ms/step - loss: 0.2315 - accuracy: 0.9333 - val_loss: 0.2977 - val_accuracy: 0.8838\n",
            "Epoch 4/20\n",
            "30/30 [==============================] - 1s 31ms/step - loss: 0.1827 - accuracy: 0.9458 - val_loss: 0.2785 - val_accuracy: 0.8881\n",
            "Epoch 5/20\n",
            "30/30 [==============================] - 1s 31ms/step - loss: 0.1498 - accuracy: 0.9567 - val_loss: 0.2801 - val_accuracy: 0.8881\n",
            "Epoch 6/20\n",
            "30/30 [==============================] - 1s 31ms/step - loss: 0.1166 - accuracy: 0.9688 - val_loss: 0.3135 - val_accuracy: 0.8804\n",
            "Epoch 7/20\n",
            "30/30 [==============================] - 1s 32ms/step - loss: 0.1015 - accuracy: 0.9719 - val_loss: 0.3064 - val_accuracy: 0.8841\n",
            "Epoch 8/20\n",
            "30/30 [==============================] - 1s 32ms/step - loss: 0.0826 - accuracy: 0.9774 - val_loss: 0.3233 - val_accuracy: 0.8821\n",
            "Epoch 9/20\n",
            "30/30 [==============================] - 1s 32ms/step - loss: 0.0676 - accuracy: 0.9836 - val_loss: 0.3447 - val_accuracy: 0.8806\n",
            "Epoch 10/20\n",
            "30/30 [==============================] - 1s 32ms/step - loss: 0.0561 - accuracy: 0.9876 - val_loss: 0.3658 - val_accuracy: 0.8770\n",
            "Epoch 11/20\n",
            "30/30 [==============================] - 1s 32ms/step - loss: 0.0462 - accuracy: 0.9908 - val_loss: 0.3935 - val_accuracy: 0.8744\n",
            "Epoch 12/20\n",
            "30/30 [==============================] - 1s 32ms/step - loss: 0.0366 - accuracy: 0.9938 - val_loss: 0.4304 - val_accuracy: 0.8707\n",
            "Epoch 13/20\n",
            "30/30 [==============================] - 1s 31ms/step - loss: 0.0318 - accuracy: 0.9937 - val_loss: 0.4668 - val_accuracy: 0.8689\n",
            "Epoch 14/20\n",
            "30/30 [==============================] - 1s 31ms/step - loss: 0.0268 - accuracy: 0.9954 - val_loss: 0.4846 - val_accuracy: 0.8708\n",
            "Epoch 15/20\n",
            "30/30 [==============================] - 1s 32ms/step - loss: 0.0193 - accuracy: 0.9972 - val_loss: 0.5172 - val_accuracy: 0.8697\n",
            "Epoch 16/20\n",
            "30/30 [==============================] - 1s 32ms/step - loss: 0.0148 - accuracy: 0.9981 - val_loss: 0.5570 - val_accuracy: 0.8676\n",
            "Epoch 17/20\n",
            "30/30 [==============================] - 1s 32ms/step - loss: 0.0114 - accuracy: 0.9992 - val_loss: 0.5841 - val_accuracy: 0.8683\n",
            "Epoch 18/20\n",
            "30/30 [==============================] - 1s 31ms/step - loss: 0.0078 - accuracy: 0.9998 - val_loss: 0.6726 - val_accuracy: 0.8603\n",
            "Epoch 19/20\n",
            "30/30 [==============================] - 1s 32ms/step - loss: 0.0076 - accuracy: 0.9998 - val_loss: 0.6974 - val_accuracy: 0.8631\n",
            "Epoch 20/20\n",
            "30/30 [==============================] - 1s 31ms/step - loss: 0.0060 - accuracy: 0.9997 - val_loss: 0.7052 - val_accuracy: 0.8648\n"
          ],
          "name": "stdout"
        },
        {
          "output_type": "display_data",
          "data": {
            "image/png": "[encoded data removed]",
            "text/plain": [
              "<Figure size 432x288 with 1 Axes>"
            ]
          },
          "metadata": {
            "tags": [],
            "needs_background": "light"
          }
        },
        {
          "output_type": "display_data",
          "data": {
            "image/png": "[encoded data removed]",
            "text/plain": [
              "<Figure size 432x288 with 1 Axes>"
            ]
          },
          "metadata": {
            "tags": [],
            "needs_background": "light"
          }
        }
      ]
    },
    {
      "cell_type": "markdown",
      "metadata": {
        "id": "6_j0qZKFiVDp"
      },
      "source": [
        "## **Observations**:\n",
        " * The training loss decreases with every epoch and the training accuracy increases with every epoch. \n",
        " * The validation loss and accuracy seems rise at 4th Epoch\n",
        "  \n",
        " * This model is performing   better on the training data but not on the validation data for both loss and accuracy.  This is an \"overfitting\" situation.\n",
        " * In order to do prevent overfitting we need to restrict the model before it starts to increase the loss value.\n",
        "\n",
        " When you overfit, you end up learning from your noise, and including it in your model.\n",
        "\n",
        "Then, when the time comes to make predictions from other data, your accuracy goes down: the noise made its way into your model, but it was specific to your training data, so it hurts the accuracy of your model. Your model doesn't generalize: it is too specific to the data set you happened to choose to train.\n",
        "## **Early Stop**:\n",
        "\n",
        "In machine-learning there is an approach called early stop. In that approach you plot the error rate on training and validation data. The horizontal axis is the number of epochs and the vertical axis is the error rate. You should stop training when the error rate of validation data is minimum. Consequently if you increase the number of epochs, you will have an over-fitted model.\n",
        "\n",
        "Therefore let's retrain the model with keeping only 4 Epochs and validate the results on the validation data.\n",
        " \n"
      ]
    },
    {
      "cell_type": "code",
      "metadata": {
        "id": "1PQd1CdQ7tqy",
        "colab": {
          "base_uri": "https://localhost:8080/"
        },
        "outputId": "875932e5-59d5-419c-d13f-f90a3d979993"
      },
      "source": [
        "#Retraining the model with 4 Epochs\n",
        "\n",
        "tf.random.set_seed(8)\n",
        "\n",
        "orig_retrained_model = models.Sequential()\n",
        "orig_retrained_model.add(layers.Dense(16, activation='relu', input_shape=(10000,)))\n",
        "orig_retrained_model.add(layers.Dense(16, activation='relu'))\n",
        "orig_retrained_model.add(layers.Dense(1, activation='sigmoid'))\n",
        "\n",
        "\n",
        "orig_retrained_model.compile(optimizer='rmsprop',\n",
        "              loss='binary_crossentropy',\n",
        "              metrics=['accuracy'])\n",
        "\n",
        "orig_retrained_model.fit(x_train, y_train, epochs=4, batch_size=512)\n",
        "orig_results = orig_retrained_model.evaluate(x_test, y_test)\n",
        "\n",
        "print(orig_results)\n",
        "\n",
        "orig_retrained_model.predict(x_test)"
      ],
      "execution_count": 16,
      "outputs": [
        {
          "output_type": "stream",
          "text": [
            "Epoch 1/4\n",
            "49/49 [==============================] - 2s 26ms/step - loss: 0.5551 - accuracy: 0.7433\n",
            "Epoch 2/4\n",
            "49/49 [==============================] - 1s 26ms/step - loss: 0.2788 - accuracy: 0.9096\n",
            "Epoch 3/4\n",
            "49/49 [==============================] - 1s 26ms/step - loss: 0.2075 - accuracy: 0.9259\n",
            "Epoch 4/4\n",
            "49/49 [==============================] - 1s 25ms/step - loss: 0.1705 - accuracy: 0.9396\n",
            "782/782 [==============================] - 1s 2ms/step - loss: 0.2915 - accuracy: 0.8842\n",
            "[0.2914949357509613, 0.8842399716377258]\n"
          ],
          "name": "stdout"
        },
        {
          "output_type": "execute_result",
          "data": {
            "text/plain": [
              "array([[0.18942767],\n",
              "       [0.9997946 ],\n",
              "       [0.9209652 ],\n",
              "       ...,\n",
              "       [0.14396375],\n",
              "       [0.07375705],\n",
              "       [0.61732715]], dtype=float32)"
            ]
          },
          "metadata": {
            "tags": []
          },
          "execution_count": 16
        }
      ]
    },
    {
      "cell_type": "markdown",
      "metadata": {
        "id": "16z2wpif5C1B"
      },
      "source": [
        "## **Observations**:\n",
        "* After retraining the original model we can see that the performance has been improved,however we should try to improve  the below results:\n",
        "* Average Accuracy on the retrained model= 88.42%\n",
        "* Average Loss on the retrained model    = 29.14%\n",
        "\n",
        "\n",
        "\n",
        "The number of hidden layers in a network architecture is related to model capacity.We can try to balance the overfitting by reducing the number of layer or by increasing the number of layer.\n",
        "\n",
        "\n",
        "## **1.Changing the Hidden Layers from the original Model**:\n",
        "Higher the model capacity, the more complex the functions that can be learned by the network.\n",
        "Problems that require more than two hidden layers were rare prior to deep learning. Two or fewer layers will often suffice with simple data sets.\n",
        "\n",
        "* Now let's try using one or three hidden layers, and see how doing so\n",
        "affects validation and test accuracy.\n",
        "\n",
        "\n",
        "*   1 Layer model\n",
        "*   3 Layer model\n",
        "\n",
        "\n",
        "\n",
        "\n"
      ]
    },
    {
      "cell_type": "code",
      "metadata": {
        "id": "3L40FOtMjhdK",
        "colab": {
          "base_uri": "https://localhost:8080/",
          "height": 1000
        },
        "outputId": "851cc82c-4845-439d-9c42-9bbc19fc4c7c"
      },
      "source": [
        "\n",
        "#model 2 : 1 hidden layer\n",
        "\n",
        "#Network Building\n",
        "from keras import models\n",
        "from keras import layers\n",
        "\n",
        "tf.random.set_seed(9)\n",
        "\n",
        "smaller_model = models.Sequential()\n",
        "smaller_model.add(layers.Dense(16, activation='relu', input_shape=(10000,)))\n",
        "smaller_model.add(layers.Dense(1, activation='sigmoid'))\n",
        "\n",
        "# Configure Model: with the rmsprop optimizer and the binary_crossentropy loss function. \n",
        "\n",
        "smaller_model.compile(optimizer='rmsprop',\n",
        "              loss='binary_crossentropy',\n",
        "              metrics=['accuracy'])\n",
        "\n",
        "\n",
        "# Model Training\n",
        "smaller_model_history = smaller_model.fit(partial_x_train,\n",
        "                    partial_y_train,\n",
        "                    epochs=20,\n",
        "                    batch_size=512,\n",
        "                    validation_data=(x_val, y_val))\n",
        "\n",
        "smaller_model_history_dict = smaller_model_history.history\n",
        "smaller_model_history_dict.keys()\n",
        "\n",
        "#Plot the training and validation loss side by side, as well as the training and validation accuracy:\n",
        "import matplotlib.pyplot as plt\n",
        "\n",
        "smaller_model_history_accuracy = smaller_model_history.history['accuracy']\n",
        "smaller_model_history_val_accuracy = smaller_model_history.history['val_accuracy']\n",
        "smaller_model_history_loss = smaller_model_history.history['loss']\n",
        "smaller_model_history_val_loss = smaller_model_history.history['val_loss']\n",
        "\n",
        "epochs = range(1, len(smaller_model_history_accuracy) + 1)\n",
        "\n",
        "# \"bo\" is for \"blue dot\"\n",
        "plt.plot(epochs, smaller_model_history_loss, 'bo', label='Training loss')\n",
        "# b is for \"solid blue line\"\n",
        "plt.plot(epochs, smaller_model_history_val_loss, 'b', label='Validation loss')\n",
        "plt.title('Training and validation loss')\n",
        "plt.xlabel('Epochs')\n",
        "plt.ylabel('Loss')\n",
        "plt.legend()\n",
        "\n",
        "plt.show()\n",
        "\n",
        "plt.clf()   # clear figure\n",
        "\n",
        "plt.plot(epochs, smaller_model_history_accuracy, 'bo', label='Training acc')\n",
        "plt.plot(epochs, smaller_model_history_val_accuracy, 'b', label='Validation acc')\n",
        "plt.title('Training and validation accuracy')\n",
        "plt.xlabel('Epochs')\n",
        "plt.ylabel('Loss')\n",
        "plt.legend()\n",
        "\n",
        "plt.show()\n"
      ],
      "execution_count": 17,
      "outputs": [
        {
          "output_type": "stream",
          "text": [
            "Epoch 1/20\n",
            "30/30 [==============================] - 2s 51ms/step - loss: 0.5604 - accuracy: 0.7261 - val_loss: 0.3893 - val_accuracy: 0.8594\n",
            "Epoch 2/20\n",
            "30/30 [==============================] - 1s 34ms/step - loss: 0.3271 - accuracy: 0.8971 - val_loss: 0.3114 - val_accuracy: 0.8888\n",
            "Epoch 3/20\n",
            "30/30 [==============================] - 1s 32ms/step - loss: 0.2449 - accuracy: 0.9260 - val_loss: 0.3046 - val_accuracy: 0.8759\n",
            "Epoch 4/20\n",
            "30/30 [==============================] - 1s 33ms/step - loss: 0.2042 - accuracy: 0.9373 - val_loss: 0.2795 - val_accuracy: 0.8883\n",
            "Epoch 5/20\n",
            "30/30 [==============================] - 1s 33ms/step - loss: 0.1634 - accuracy: 0.9528 - val_loss: 0.2744 - val_accuracy: 0.8879\n",
            "Epoch 6/20\n",
            "30/30 [==============================] - 1s 33ms/step - loss: 0.1399 - accuracy: 0.9607 - val_loss: 0.2865 - val_accuracy: 0.8857\n",
            "Epoch 7/20\n",
            "30/30 [==============================] - 1s 33ms/step - loss: 0.1251 - accuracy: 0.9665 - val_loss: 0.2802 - val_accuracy: 0.8874\n",
            "Epoch 8/20\n",
            "30/30 [==============================] - 1s 33ms/step - loss: 0.1054 - accuracy: 0.9723 - val_loss: 0.2927 - val_accuracy: 0.8825\n",
            "Epoch 9/20\n",
            "30/30 [==============================] - 1s 33ms/step - loss: 0.0932 - accuracy: 0.9771 - val_loss: 0.3052 - val_accuracy: 0.8827\n",
            "Epoch 10/20\n",
            "30/30 [==============================] - 1s 32ms/step - loss: 0.0831 - accuracy: 0.9811 - val_loss: 0.3285 - val_accuracy: 0.8798\n",
            "Epoch 11/20\n",
            "30/30 [==============================] - 1s 33ms/step - loss: 0.0726 - accuracy: 0.9840 - val_loss: 0.3234 - val_accuracy: 0.8830\n",
            "Epoch 12/20\n",
            "30/30 [==============================] - 1s 33ms/step - loss: 0.0647 - accuracy: 0.9874 - val_loss: 0.3402 - val_accuracy: 0.8796\n",
            "Epoch 13/20\n",
            "30/30 [==============================] - 1s 34ms/step - loss: 0.0567 - accuracy: 0.9897 - val_loss: 0.3561 - val_accuracy: 0.8780\n",
            "Epoch 14/20\n",
            "30/30 [==============================] - 1s 33ms/step - loss: 0.0503 - accuracy: 0.9899 - val_loss: 0.3718 - val_accuracy: 0.8779\n",
            "Epoch 15/20\n",
            "30/30 [==============================] - 1s 33ms/step - loss: 0.0444 - accuracy: 0.9911 - val_loss: 0.3837 - val_accuracy: 0.8769\n",
            "Epoch 16/20\n",
            "30/30 [==============================] - 1s 33ms/step - loss: 0.0392 - accuracy: 0.9930 - val_loss: 0.3998 - val_accuracy: 0.8766\n",
            "Epoch 17/20\n",
            "30/30 [==============================] - 1s 33ms/step - loss: 0.0325 - accuracy: 0.9952 - val_loss: 0.4455 - val_accuracy: 0.8712\n",
            "Epoch 18/20\n",
            "30/30 [==============================] - 1s 33ms/step - loss: 0.0290 - accuracy: 0.9968 - val_loss: 0.4348 - val_accuracy: 0.8711\n",
            "Epoch 19/20\n",
            "30/30 [==============================] - 1s 33ms/step - loss: 0.0246 - accuracy: 0.9969 - val_loss: 0.4596 - val_accuracy: 0.8676\n",
            "Epoch 20/20\n",
            "30/30 [==============================] - 1s 32ms/step - loss: 0.0224 - accuracy: 0.9967 - val_loss: 0.4761 - val_accuracy: 0.8709\n"
          ],
          "name": "stdout"
        },
        {
          "output_type": "display_data",
          "data": {
            "image/png": "[encoded data removed]",
            "text/plain": [
              "<Figure size 432x288 with 1 Axes>"
            ]
          },
          "metadata": {
            "tags": [],
            "needs_background": "light"
          }
        },
        {
          "output_type": "display_data",
          "data": {
            "image/png": "[encoded data removed]",
            "text/plain": [
              "<Figure size 432x288 with 1 Axes>"
            ]
          },
          "metadata": {
            "tags": [],
            "needs_background": "light"
          }
        }
      ]
    },
    {
      "cell_type": "markdown",
      "metadata": {
        "id": "-roaLwjQyxMi"
      },
      "source": [
        "## **Observations**:-\n",
        "\n",
        "\n",
        "* The model is performing better on the training data but not performing well on the validation data.\n",
        "* After 4th epoch we are over optimizing the training data\n",
        "\n",
        "* Let's retrained the model with epoch = 5 and check the results.\n"
      ]
    },
    {
      "cell_type": "code",
      "metadata": {
        "colab": {
          "base_uri": "https://localhost:8080/"
        },
        "id": "imhgX7k0_mDa",
        "outputId": "398d1011-d58d-42c1-ee7d-6e921ac681a6"
      },
      "source": [
        "#Retraining the  smaller Model with 5 Epochs\n",
        "tf.random.set_seed(12)\n",
        "\n",
        "smaller_model = models.Sequential()\n",
        "smaller_model.add(layers.Dense(16, activation='relu', input_shape=(10000,)))\n",
        "smaller_model.add(layers.Dense(1, activation='sigmoid'))\n",
        "\n",
        "smaller_model.compile(optimizer='rmsprop',\n",
        "              loss='binary_crossentropy',\n",
        "              metrics=['accuracy'])\n",
        "\n",
        "smaller_model.fit(x_train, y_train, epochs=5, batch_size=512)\n",
        "smaller_model_results = smaller_model.evaluate(x_test, y_test)\n",
        "\n",
        "print(smaller_model_results)\n",
        "\n",
        "smaller_model.predict(x_test)"
      ],
      "execution_count": 18,
      "outputs": [
        {
          "output_type": "stream",
          "text": [
            "Epoch 1/5\n",
            "49/49 [==============================] - 2s 27ms/step - loss: 0.5320 - accuracy: 0.7600\n",
            "Epoch 2/5\n",
            "49/49 [==============================] - 1s 27ms/step - loss: 0.2842 - accuracy: 0.9093\n",
            "Epoch 3/5\n",
            "49/49 [==============================] - 1s 27ms/step - loss: 0.2225 - accuracy: 0.9242\n",
            "Epoch 4/5\n",
            "49/49 [==============================] - 1s 27ms/step - loss: 0.1826 - accuracy: 0.9416\n",
            "Epoch 5/5\n",
            "49/49 [==============================] - 1s 26ms/step - loss: 0.1564 - accuracy: 0.9496\n",
            "782/782 [==============================] - 1s 2ms/step - loss: 0.2955 - accuracy: 0.8819\n",
            "[0.2954699695110321, 0.881879985332489]\n"
          ],
          "name": "stdout"
        },
        {
          "output_type": "execute_result",
          "data": {
            "text/plain": [
              "array([[0.16465464],\n",
              "       [0.9998299 ],\n",
              "       [0.79364634],\n",
              "       ...,\n",
              "       [0.12005672],\n",
              "       [0.06393087],\n",
              "       [0.5408848 ]], dtype=float32)"
            ]
          },
          "metadata": {
            "tags": []
          },
          "execution_count": 18
        }
      ]
    },
    {
      "cell_type": "markdown",
      "metadata": {
        "id": "3wkMPP76HmuW"
      },
      "source": [
        "\n",
        "\n",
        "\n",
        "\n",
        "\n",
        "\n",
        "\n",
        "---\n",
        "\n",
        "\n",
        "\n",
        "---\n",
        "\n",
        "\n",
        "## **Results**:\n",
        "* After retraining the original model we can see that the performance has been improved,however we should try to improve  the below results:\n",
        " * Average Accuracy on the new retrained model= 88.18% , original model=88.49%\n",
        " * Average Loss on the  new retrained model    = 29.54%, original model=29%\n",
        "\n",
        " * As per the result we dont find much difference in the performance of the model.\n",
        "\n",
        "\n",
        "Let's try to increase the layer to 3 from 2 and check results .\n",
        "\n",
        "\n",
        "---\n",
        "\n",
        "\n",
        "---\n",
        "\n",
        "\n",
        "\n"
      ]
    },
    {
      "cell_type": "code",
      "metadata": {
        "colab": {
          "base_uri": "https://localhost:8080/",
          "height": 1000
        },
        "id": "ebXQOOoQAAMY",
        "outputId": "b7d10830-a92f-42e2-b55b-3d92335b5ae8"
      },
      "source": [
        "\n",
        "#model 3 : 3 layer,rest same\n",
        "\n",
        "#Network Building\n",
        "\n",
        "from keras import models\n",
        "from keras import layers\n",
        "\n",
        "tf.random.set_seed(10)\n",
        "\n",
        "bigger_model = models.Sequential()\n",
        "bigger_model.add(layers.Dense(16, activation='relu', input_shape=(10000,)))\n",
        "bigger_model.add(layers.Dense(16, activation='relu'))\n",
        "bigger_model.add(layers.Dense(16, activation='relu'))\n",
        "\n",
        "bigger_model.add(layers.Dense(1, activation='sigmoid'))\n",
        "\n",
        "# Configure Model: with the rmsprop optimizer and the binary_crossentropy loss function. \n",
        "\n",
        "bigger_model.compile(optimizer='rmsprop',\n",
        "              loss='binary_crossentropy',\n",
        "              metrics=['accuracy'])\n",
        "\n",
        "\n",
        "#Training the Model\n",
        "bigger_model_history = bigger_model.fit(partial_x_train,\n",
        "                    partial_y_train,\n",
        "                    epochs=20,\n",
        "                    batch_size=512,\n",
        "                    validation_data=(x_val, y_val))\n",
        "\n",
        "bigger_model_history_dict = bigger_model_history.history\n",
        "bigger_model_history_dict.keys()\n",
        "\n",
        "#Plot the training and validation loss side by side, as well as the training and validation accuracy:\n",
        "import matplotlib.pyplot as plt\n",
        "\n",
        "bigger_model_history_accuracy = bigger_model_history.history['accuracy']\n",
        "bigger_model_history_val_accuracy = bigger_model_history.history['val_accuracy']\n",
        "bigger_model_history_loss = bigger_model_history.history['loss']\n",
        "bigger_model_history_val_loss = bigger_model_history.history['val_loss']\n",
        "\n",
        "epochs = range(1, len(bigger_model_history_accuracy) + 1)\n",
        "\n",
        "# \"bo\" is for \"blue dot\"\n",
        "plt.plot(epochs, bigger_model_history_loss, 'bo', label='Training loss')\n",
        "# b is for \"solid blue line\"\n",
        "plt.plot(epochs, bigger_model_history_val_loss, 'b', label='Validation loss')\n",
        "plt.title('Training and validation loss')\n",
        "plt.xlabel('Epochs')\n",
        "plt.ylabel('Loss')\n",
        "plt.legend()\n",
        "\n",
        "plt.show()\n",
        "\n",
        "plt.clf()   # clear figure\n",
        "\n",
        "\n",
        "plt.plot(epochs, bigger_model_history_accuracy, 'bo', label='Training acc')\n",
        "plt.plot(epochs, bigger_model_history_val_accuracy, 'b', label='Validation acc')\n",
        "plt.title('Training and validation accuracy')\n",
        "plt.xlabel('Epochs')\n",
        "plt.ylabel('Loss')\n",
        "plt.legend()\n",
        "\n",
        "plt.show()\n"
      ],
      "execution_count": 19,
      "outputs": [
        {
          "output_type": "stream",
          "text": [
            "Epoch 1/20\n",
            "30/30 [==============================] - 2s 43ms/step - loss: 0.6442 - accuracy: 0.5738 - val_loss: 0.5247 - val_accuracy: 0.8549\n",
            "Epoch 2/20\n",
            "30/30 [==============================] - 1s 34ms/step - loss: 0.4207 - accuracy: 0.8877 - val_loss: 0.3500 - val_accuracy: 0.8724\n",
            "Epoch 3/20\n",
            "30/30 [==============================] - 1s 34ms/step - loss: 0.2593 - accuracy: 0.9241 - val_loss: 0.3014 - val_accuracy: 0.8838\n",
            "Epoch 4/20\n",
            "30/30 [==============================] - 1s 34ms/step - loss: 0.1840 - accuracy: 0.9463 - val_loss: 0.2910 - val_accuracy: 0.8837\n",
            "Epoch 5/20\n",
            "30/30 [==============================] - 1s 34ms/step - loss: 0.1397 - accuracy: 0.9607 - val_loss: 0.3095 - val_accuracy: 0.8769\n",
            "Epoch 6/20\n",
            "30/30 [==============================] - 1s 34ms/step - loss: 0.1152 - accuracy: 0.9661 - val_loss: 0.3095 - val_accuracy: 0.8850\n",
            "Epoch 7/20\n",
            "30/30 [==============================] - 1s 34ms/step - loss: 0.0818 - accuracy: 0.9796 - val_loss: 0.3248 - val_accuracy: 0.8843\n",
            "Epoch 8/20\n",
            "30/30 [==============================] - 1s 34ms/step - loss: 0.0654 - accuracy: 0.9838 - val_loss: 0.4074 - val_accuracy: 0.8728\n",
            "Epoch 9/20\n",
            "30/30 [==============================] - 1s 34ms/step - loss: 0.0549 - accuracy: 0.9854 - val_loss: 0.3826 - val_accuracy: 0.8812\n",
            "Epoch 10/20\n",
            "30/30 [==============================] - 1s 34ms/step - loss: 0.0419 - accuracy: 0.9906 - val_loss: 0.4417 - val_accuracy: 0.8753\n",
            "Epoch 11/20\n",
            "30/30 [==============================] - 1s 34ms/step - loss: 0.0288 - accuracy: 0.9954 - val_loss: 0.4618 - val_accuracy: 0.8785\n",
            "Epoch 12/20\n",
            "30/30 [==============================] - 1s 33ms/step - loss: 0.0200 - accuracy: 0.9974 - val_loss: 0.5192 - val_accuracy: 0.8763\n",
            "Epoch 13/20\n",
            "30/30 [==============================] - 1s 34ms/step - loss: 0.0245 - accuracy: 0.9951 - val_loss: 0.5192 - val_accuracy: 0.8757\n",
            "Epoch 14/20\n",
            "30/30 [==============================] - 1s 34ms/step - loss: 0.0130 - accuracy: 0.9986 - val_loss: 0.7042 - val_accuracy: 0.8410\n",
            "Epoch 15/20\n",
            "30/30 [==============================] - 1s 34ms/step - loss: 0.0195 - accuracy: 0.9946 - val_loss: 0.8663 - val_accuracy: 0.8452\n",
            "Epoch 16/20\n",
            "30/30 [==============================] - 1s 35ms/step - loss: 0.0177 - accuracy: 0.9960 - val_loss: 0.6483 - val_accuracy: 0.8738\n",
            "Epoch 17/20\n",
            "30/30 [==============================] - 1s 34ms/step - loss: 0.0155 - accuracy: 0.9964 - val_loss: 0.6620 - val_accuracy: 0.8719\n",
            "Epoch 18/20\n",
            "30/30 [==============================] - 1s 34ms/step - loss: 0.0060 - accuracy: 0.9993 - val_loss: 0.6885 - val_accuracy: 0.8705\n",
            "Epoch 19/20\n",
            "30/30 [==============================] - 1s 35ms/step - loss: 0.0076 - accuracy: 0.9984 - val_loss: 0.7250 - val_accuracy: 0.8699\n",
            "Epoch 20/20\n",
            "30/30 [==============================] - 1s 34ms/step - loss: 0.0035 - accuracy: 0.9996 - val_loss: 0.7471 - val_accuracy: 0.8713\n"
          ],
          "name": "stdout"
        },
        {
          "output_type": "display_data",
          "data": {
            "image/png": "[encoded data removed]",
            "text/plain": [
              "<Figure size 432x288 with 1 Axes>"
            ]
          },
          "metadata": {
            "tags": [],
            "needs_background": "light"
          }
        },
        {
          "output_type": "display_data",
          "data": {
            "image/png": "[encoded data removed]",
            "text/plain": [
              "<Figure size 432x288 with 1 Axes>"
            ]
          },
          "metadata": {
            "tags": [],
            "needs_background": "light"
          }
        }
      ]
    },
    {
      "cell_type": "markdown",
      "metadata": {
        "id": "Rc6YauPPKXsw"
      },
      "source": [
        "## **Observations**:\n",
        "* It seems that accuracy has improved however the loss has increased leading to overfitting. \n",
        "* let's try to retrain the model with 4 epochs as the validation loss and accuracy seems rise after 4th Epoch.\n"
      ]
    },
    {
      "cell_type": "code",
      "metadata": {
        "colab": {
          "base_uri": "https://localhost:8080/"
        },
        "id": "-L0rgx4bAXD9",
        "outputId": "eea889f6-9462-4d6e-a18f-569e1023c52a"
      },
      "source": [
        "#Retraining the  bigger model with 4 Epochs\n",
        "\n",
        "bigger_model = models.Sequential()\n",
        "bigger_model.add(layers.Dense(16, activation='relu', input_shape=(10000,)))\n",
        "bigger_model.add(layers.Dense(16, activation='relu'))\n",
        "bigger_model.add(layers.Dense(16, activation='relu'))\n",
        "bigger_model.add(layers.Dense(1, activation='sigmoid'))\n",
        "\n",
        "bigger_model.compile(optimizer='rmsprop',\n",
        "              loss='binary_crossentropy',\n",
        "              metrics=['accuracy'])\n",
        "\n",
        "bigger_model.fit(x_train, y_train, epochs=4, batch_size=512)\n",
        "bigger_model_results = bigger_model.evaluate(x_test, y_test)\n",
        "\n",
        "print(bigger_model_results)\n",
        "\n",
        "bigger_model.predict(x_test)"
      ],
      "execution_count": 20,
      "outputs": [
        {
          "output_type": "stream",
          "text": [
            "Epoch 1/4\n",
            "49/49 [==============================] - 2s 26ms/step - loss: 0.6032 - accuracy: 0.7081\n",
            "Epoch 2/4\n",
            "49/49 [==============================] - 1s 26ms/step - loss: 0.2984 - accuracy: 0.9032\n",
            "Epoch 3/4\n",
            "49/49 [==============================] - 1s 26ms/step - loss: 0.2067 - accuracy: 0.9288\n",
            "Epoch 4/4\n",
            "49/49 [==============================] - 1s 25ms/step - loss: 0.1594 - accuracy: 0.9475\n",
            "782/782 [==============================] - 1s 2ms/step - loss: 0.3130 - accuracy: 0.8794\n",
            "[0.31297555565834045, 0.8794400095939636]\n"
          ],
          "name": "stdout"
        },
        {
          "output_type": "execute_result",
          "data": {
            "text/plain": [
              "array([[0.18358701],\n",
              "       [0.9999654 ],\n",
              "       [0.98800844],\n",
              "       ...,\n",
              "       [0.10272911],\n",
              "       [0.11742598],\n",
              "       [0.82172674]], dtype=float32)"
            ]
          },
          "metadata": {
            "tags": []
          },
          "execution_count": 20
        }
      ]
    },
    {
      "cell_type": "markdown",
      "metadata": {
        "id": "xsOvBs_dMocP"
      },
      "source": [
        " \n",
        "\n",
        "---\n",
        "\n",
        "\n",
        "\n",
        "---\n",
        "\n",
        "\n",
        "\n",
        "## **Results**:\n",
        "* After retraining the new  model we can see that the performance has been improved,lets validate the results with the original model:\n",
        " * Average Accuracy on the new retrained model= 87.94% , original model=88.49%\n",
        " * Average Loss on the  new retrained model    = 31.29%, original model=29%\n",
        "\n",
        " * It seems we are in the wrong direction and need to explore  other methods to improve the performance of the model.\n",
        "\n",
        "\n",
        "---\n",
        "\n",
        "\n",
        "\n",
        "---\n",
        "\n",
        "\n",
        "\n",
        "\n",
        "## **2.Changing the number of Units(neurons) in the hidden Layer**\n",
        "Deciding the number of neurons in the hidden layers is a very important part of deciding your overall neural network architecture. Though these layers do not directly interact with the external environment, they have a tremendous influence on the final output. Both the number of hidden layers and the number of neurons in each of these hidden layers must be carefully considered.\n",
        "\n",
        "Using too few neurons in the hidden layers will result in something called underfitting. Underfitting occurs when there are too few neurons in the hidden layers to adequately detect the signals in a complicated data set.\n",
        "\n",
        "Using too many neurons in the hidden layers can result in several problems. First, too many neurons in the hidden layers may result in overfitting. Overfitting occurs when the neural network has so much information processing capacity that the limited amount of information contained in the training set is not enough to train all of the neurons in the hidden layers. \n",
        "\n",
        "Let's try using layers with more hidden units or fewer hidden units: 32 units, 64 units, and validate the results\n",
        "\n"
      ]
    },
    {
      "cell_type": "code",
      "metadata": {
        "id": "qtgQiV8oezDI",
        "colab": {
          "base_uri": "https://localhost:8080/",
          "height": 1000
        },
        "outputId": "86c6bbc0-3aab-4352-9d25-0acef4d5ceb7"
      },
      "source": [
        "#Model 4 = less nodes\n",
        "#Building Network\n",
        "tf.random.set_seed(11)\n",
        "\n",
        "from keras import models\n",
        "from keras import layers\n",
        "\n",
        "lessunits_model = models.Sequential()\n",
        "lessunits_model.add(layers.Dense(8, activation='relu', input_shape=(10000,)))\n",
        "lessunits_model.add(layers.Dense(8, activation='relu'))\n",
        "lessunits_model.add(layers.Dense(1, activation='sigmoid'))\n",
        "\n",
        "# Configure Model: with the rmsprop optimizer and the binary_crossentropy loss function. \n",
        "\n",
        "lessunits_model.compile(optimizer='rmsprop',\n",
        "              loss='binary_crossentropy',\n",
        "              metrics=['accuracy'])\n",
        "\n",
        "#Training the Model\n",
        "lessunits_model_history = lessunits_model.fit(partial_x_train,\n",
        "                    partial_y_train,\n",
        "                    epochs=20,\n",
        "                    batch_size=512,\n",
        "                    validation_data=(x_val, y_val))\n",
        "\n",
        "lessunits_model_history_dict = lessunits_model_history.history\n",
        "lessunits_model_history_dict.keys()\n",
        "\n",
        "# Plot the training and validation loss side by side, as well as the training and validation accuracy:\n",
        "\n",
        "import matplotlib.pyplot as plt\n",
        "\n",
        "lessunits_model_history_accuracy = lessunits_model_history.history['accuracy']\n",
        "lessunits_model_history_val_accuracy = lessunits_model_history.history['val_accuracy']\n",
        "lessunits_model_history_loss = lessunits_model_history.history['loss']\n",
        "lessunits_model_history_val_loss = lessunits_model_history.history['val_loss']\n",
        "\n",
        "epochs = range(1, len(lessunits_model_history_accuracy) + 1)\n",
        "\n",
        "# \"bo\" is for \"blue dot\"\n",
        "plt.plot(epochs, lessunits_model_history_loss, 'bo', label='Training loss')\n",
        "# b is for \"solid blue line\"\n",
        "plt.plot(epochs, lessunits_model_history_val_loss, 'b', label='Validation loss')\n",
        "plt.title('Training and validation loss')\n",
        "plt.xlabel('Epochs')\n",
        "plt.ylabel('Loss')\n",
        "plt.legend()\n",
        "\n",
        "plt.show()\n",
        "\n",
        "plt.clf()   # clear figure\n",
        "\n",
        "plt.plot(epochs, lessunits_model_history_accuracy, 'bo', label='Training acc')\n",
        "plt.plot(epochs, lessunits_model_history_val_accuracy, 'b', label='Validation acc')\n",
        "plt.title('Training and validation accuracy')\n",
        "plt.xlabel('Epochs')\n",
        "plt.ylabel('Loss')\n",
        "plt.legend()\n",
        "\n",
        "plt.show()\n"
      ],
      "execution_count": 21,
      "outputs": [
        {
          "output_type": "stream",
          "text": [
            "Epoch 1/20\n",
            "30/30 [==============================] - 2s 50ms/step - loss: 0.6060 - accuracy: 0.6934 - val_loss: 0.4219 - val_accuracy: 0.8522\n",
            "Epoch 2/20\n",
            "30/30 [==============================] - 1s 32ms/step - loss: 0.3584 - accuracy: 0.8909 - val_loss: 0.3271 - val_accuracy: 0.8846\n",
            "Epoch 3/20\n",
            "30/30 [==============================] - 1s 32ms/step - loss: 0.2602 - accuracy: 0.9237 - val_loss: 0.3127 - val_accuracy: 0.8750\n",
            "Epoch 4/20\n",
            "30/30 [==============================] - 1s 33ms/step - loss: 0.2062 - accuracy: 0.9354 - val_loss: 0.2854 - val_accuracy: 0.8861\n",
            "Epoch 5/20\n",
            "30/30 [==============================] - 1s 32ms/step - loss: 0.1660 - accuracy: 0.9489 - val_loss: 0.2770 - val_accuracy: 0.8892\n",
            "Epoch 6/20\n",
            "30/30 [==============================] - 1s 32ms/step - loss: 0.1414 - accuracy: 0.9578 - val_loss: 0.2848 - val_accuracy: 0.8871\n",
            "Epoch 7/20\n",
            "30/30 [==============================] - 1s 32ms/step - loss: 0.1162 - accuracy: 0.9673 - val_loss: 0.2881 - val_accuracy: 0.8866\n",
            "Epoch 8/20\n",
            "30/30 [==============================] - 1s 32ms/step - loss: 0.1053 - accuracy: 0.9699 - val_loss: 0.3009 - val_accuracy: 0.8847\n",
            "Epoch 9/20\n",
            "30/30 [==============================] - 1s 44ms/step - loss: 0.0828 - accuracy: 0.9805 - val_loss: 0.3480 - val_accuracy: 0.8762\n",
            "Epoch 10/20\n",
            "30/30 [==============================] - 1s 35ms/step - loss: 0.0720 - accuracy: 0.9820 - val_loss: 0.3327 - val_accuracy: 0.8820\n",
            "Epoch 11/20\n",
            "30/30 [==============================] - 1s 36ms/step - loss: 0.0604 - accuracy: 0.9845 - val_loss: 0.3683 - val_accuracy: 0.8766\n",
            "Epoch 12/20\n",
            "30/30 [==============================] - 1s 35ms/step - loss: 0.0539 - accuracy: 0.9878 - val_loss: 0.3798 - val_accuracy: 0.8779\n",
            "Epoch 13/20\n",
            "30/30 [==============================] - 1s 35ms/step - loss: 0.0455 - accuracy: 0.9903 - val_loss: 0.3979 - val_accuracy: 0.8769\n",
            "Epoch 14/20\n",
            "30/30 [==============================] - 1s 36ms/step - loss: 0.0366 - accuracy: 0.9925 - val_loss: 0.4335 - val_accuracy: 0.8748\n",
            "Epoch 15/20\n",
            "30/30 [==============================] - 1s 35ms/step - loss: 0.0296 - accuracy: 0.9957 - val_loss: 0.4502 - val_accuracy: 0.8723\n",
            "Epoch 16/20\n",
            "30/30 [==============================] - 1s 36ms/step - loss: 0.0253 - accuracy: 0.9964 - val_loss: 0.4790 - val_accuracy: 0.8715\n",
            "Epoch 17/20\n",
            "30/30 [==============================] - 1s 35ms/step - loss: 0.0211 - accuracy: 0.9973 - val_loss: 0.5149 - val_accuracy: 0.8718\n",
            "Epoch 18/20\n",
            "30/30 [==============================] - 1s 35ms/step - loss: 0.0159 - accuracy: 0.9986 - val_loss: 0.5413 - val_accuracy: 0.8670\n",
            "Epoch 19/20\n",
            "30/30 [==============================] - 1s 35ms/step - loss: 0.0130 - accuracy: 0.9988 - val_loss: 0.5787 - val_accuracy: 0.8677\n",
            "Epoch 20/20\n",
            "30/30 [==============================] - 1s 35ms/step - loss: 0.0107 - accuracy: 0.9995 - val_loss: 0.6075 - val_accuracy: 0.8646\n"
          ],
          "name": "stdout"
        },
        {
          "output_type": "display_data",
          "data": {
            "image/png": "[encoded data removed]",
            "text/plain": [
              "<Figure size 432x288 with 1 Axes>"
            ]
          },
          "metadata": {
            "tags": [],
            "needs_background": "light"
          }
        },
        {
          "output_type": "display_data",
          "data": {
            "image/png": "[encoded data removed]",
            "text/plain": [
              "<Figure size 432x288 with 1 Axes>"
            ]
          },
          "metadata": {
            "tags": [],
            "needs_background": "light"
          }
        }
      ]
    },
    {
      "cell_type": "markdown",
      "metadata": {
        "id": "1BV_IH9KNiKh"
      },
      "source": [
        "### **2.1 Observations**:-\n",
        "* Afer reducing the units , we can see some  positive changes in the results of the charts for accuracy and loss.\n",
        "* As per the results ,It seems that with the increase in the epochs the difference in the **loss** for training and validation has increased, however accuracy seems to be improved.\n",
        "* At **Epoch 5** , we are over optimizing the training data. Lets retrain the model with epoch=5 and validate the results.\n",
        "\n",
        "\n"
      ]
    },
    {
      "cell_type": "code",
      "metadata": {
        "colab": {
          "base_uri": "https://localhost:8080/"
        },
        "id": "wViTa3byApGt",
        "outputId": "8abcd441-d5ac-43ef-8477-253870f3e74f"
      },
      "source": [
        "#Retraining the LessUnit_Model with 5 Epochs\n",
        "tf.random.set_seed(13)\n",
        "\n",
        "lessunits_model = models.Sequential()\n",
        "lessunits_model.add(layers.Dense(16, activation='relu', input_shape=(10000,)))\n",
        "lessunits_model.add(layers.Dense(16, activation='relu'))\n",
        "lessunits_model.add(layers.Dense(1, activation='sigmoid'))\n",
        "\n",
        "lessunits_model.compile(optimizer='rmsprop',\n",
        "              loss='binary_crossentropy',\n",
        "              metrics=['accuracy'])\n",
        "\n",
        "lessunits_model.fit(x_train, y_train, epochs=5, batch_size=512)\n",
        "lessunits_model_results = lessunits_model.evaluate(x_test, y_test)\n",
        "\n",
        "print(lessunits_model_results)\n",
        "\n",
        "lessunits_model.predict(x_test)"
      ],
      "execution_count": 22,
      "outputs": [
        {
          "output_type": "stream",
          "text": [
            "Epoch 1/5\n",
            "49/49 [==============================] - 2s 27ms/step - loss: 0.5410 - accuracy: 0.7499\n",
            "Epoch 2/5\n",
            "49/49 [==============================] - 1s 26ms/step - loss: 0.2660 - accuracy: 0.9058\n",
            "Epoch 3/5\n",
            "49/49 [==============================] - 1s 27ms/step - loss: 0.1945 - accuracy: 0.9327\n",
            "Epoch 4/5\n",
            "49/49 [==============================] - 1s 27ms/step - loss: 0.1621 - accuracy: 0.9448\n",
            "Epoch 5/5\n",
            "49/49 [==============================] - 1s 26ms/step - loss: 0.1387 - accuracy: 0.9533\n",
            "782/782 [==============================] - 1s 2ms/step - loss: 0.3162 - accuracy: 0.8795\n",
            "[0.3162168562412262, 0.8794800043106079]\n"
          ],
          "name": "stdout"
        },
        {
          "output_type": "execute_result",
          "data": {
            "text/plain": [
              "array([[0.16791207],\n",
              "       [0.99993896],\n",
              "       [0.89237595],\n",
              "       ...,\n",
              "       [0.1307385 ],\n",
              "       [0.0449706 ],\n",
              "       [0.8024087 ]], dtype=float32)"
            ]
          },
          "metadata": {
            "tags": []
          },
          "execution_count": 22
        }
      ]
    },
    {
      "cell_type": "markdown",
      "metadata": {
        "id": "L1px7e0xPSOV"
      },
      "source": [
        "\n",
        "\n",
        "---\n",
        "\n",
        "\n",
        "\n",
        "---\n",
        "\n",
        "\n",
        "## **2.2 Results**:\n",
        "* After retraining the new  model we can see that the performance has remained almost same ,lets validate the results with the original model:\n",
        "\n",
        "  * Average Accuracy on the new retrained model= 87.94% , original model=88.49%\n",
        "  * Average Loss on the  new retrained model    = 31.62%, original model=29%\n",
        "\n",
        "* This model has not improved the performance.This results from original model and new model are similar.\n",
        "\n",
        "\n",
        "---\n",
        "\n",
        "\n",
        "\n",
        "---\n",
        "\n",
        "\n",
        "\n",
        "\n"
      ]
    },
    {
      "cell_type": "code",
      "metadata": {
        "colab": {
          "base_uri": "https://localhost:8080/",
          "height": 1000
        },
        "id": "aFFLDmKtuMY9",
        "outputId": "90fa0365-6735-42a6-80a6-50ad379a51f1"
      },
      "source": [
        "#Model 7 = more nodes\n",
        "#Building Network\n",
        "import tensorflow as tf\n",
        "\n",
        "tf.random.set_seed(27)\n",
        "\n",
        "from keras import models\n",
        "from keras import layers\n",
        "\n",
        "moreunits_model = models.Sequential()\n",
        "moreunits_model.add(layers.Dense(32, activation='relu', input_shape=(10000,)))\n",
        "moreunits_model.add(layers.Dense(32, activation='relu'))\n",
        "moreunits_model.add(layers.Dense(1, activation='sigmoid'))\n",
        "\n",
        "# Configure Model: with the rmsprop optimizer and the binary_crossentropy loss function. \n",
        "\n",
        "moreunits_model.compile(optimizer='rmsprop',\n",
        "              loss='binary_crossentropy',\n",
        "              metrics=['accuracy'])\n",
        "\n",
        "\n",
        "\n",
        "#Creating Validation Set:setting apart 10,000 samples from the original training data:\n",
        "\n",
        "\n",
        "#Training the Model\n",
        "moreunits_model_history = lessunits_model.fit(partial_x_train,\n",
        "                    partial_y_train,\n",
        "                    epochs=20,\n",
        "                    batch_size=512,\n",
        "                    validation_data=(x_val, y_val))\n",
        "\n",
        "moreunits_model_history_dict = moreunits_model_history.history\n",
        "moreunits_model_history_dict.keys()\n",
        "\n",
        "# Plot the training and validation loss side by side, as well as the training and validation accuracy:\n",
        "\n",
        "import matplotlib.pyplot as plt\n",
        "\n",
        "moreunits_model_history_accuracy = moreunits_model_history.history['accuracy']\n",
        "moreunits_model_history_val_accuracy = moreunits_model_history.history['val_accuracy']\n",
        "moreunits_model_history_loss = moreunits_model_history.history['loss']\n",
        "moreunits_model_history_val_loss = moreunits_model_history.history['val_loss']\n",
        "\n",
        "epochs = range(1, len(moreunits_model_history_accuracy) + 1)\n",
        "\n",
        "# \"bo\" is for \"blue dot\"\n",
        "plt.plot(epochs, moreunits_model_history_loss, 'bo', label='Training loss')\n",
        "# b is for \"solid blue line\"\n",
        "plt.plot(epochs, moreunits_model_history_val_loss, 'b', label='Validation loss')\n",
        "plt.title('Training and validation loss')\n",
        "plt.xlabel('Epochs')\n",
        "plt.ylabel('Loss')\n",
        "plt.legend()\n",
        "\n",
        "plt.show()\n",
        "\n",
        "plt.clf()   \n",
        "\n",
        "plt.plot(epochs, moreunits_model_history_accuracy, 'bo', label='Training acc')\n",
        "plt.plot(epochs, moreunits_model_history_val_accuracy, 'b', label='Validation acc')\n",
        "plt.title('Training and validation accuracy')\n",
        "plt.xlabel('Epochs')\n",
        "plt.ylabel('Loss')\n",
        "plt.legend()\n",
        "\n",
        "plt.show()"
      ],
      "execution_count": 23,
      "outputs": [
        {
          "output_type": "stream",
          "text": [
            "Epoch 1/20\n",
            "30/30 [==============================] - 1s 40ms/step - loss: 0.1209 - accuracy: 0.9578 - val_loss: 0.1726 - val_accuracy: 0.9318\n",
            "Epoch 2/20\n",
            "30/30 [==============================] - 1s 33ms/step - loss: 0.1019 - accuracy: 0.9669 - val_loss: 0.1430 - val_accuracy: 0.9489\n",
            "Epoch 3/20\n",
            "30/30 [==============================] - 1s 33ms/step - loss: 0.0830 - accuracy: 0.9747 - val_loss: 0.1570 - val_accuracy: 0.9437\n",
            "Epoch 4/20\n",
            "30/30 [==============================] - 1s 33ms/step - loss: 0.0708 - accuracy: 0.9791 - val_loss: 0.1808 - val_accuracy: 0.9344\n",
            "Epoch 5/20\n",
            "30/30 [==============================] - 1s 35ms/step - loss: 0.0602 - accuracy: 0.9823 - val_loss: 0.1957 - val_accuracy: 0.9296\n",
            "Epoch 6/20\n",
            "30/30 [==============================] - 1s 33ms/step - loss: 0.0466 - accuracy: 0.9893 - val_loss: 0.2233 - val_accuracy: 0.9238\n",
            "Epoch 7/20\n",
            "30/30 [==============================] - 1s 33ms/step - loss: 0.0413 - accuracy: 0.9892 - val_loss: 0.2666 - val_accuracy: 0.9107\n",
            "Epoch 8/20\n",
            "30/30 [==============================] - 1s 34ms/step - loss: 0.0335 - accuracy: 0.9924 - val_loss: 0.2688 - val_accuracy: 0.9155\n",
            "Epoch 9/20\n",
            "30/30 [==============================] - 1s 33ms/step - loss: 0.0265 - accuracy: 0.9947 - val_loss: 0.2958 - val_accuracy: 0.9121\n",
            "Epoch 10/20\n",
            "30/30 [==============================] - 1s 34ms/step - loss: 0.0215 - accuracy: 0.9960 - val_loss: 0.3211 - val_accuracy: 0.9096\n",
            "Epoch 11/20\n",
            "30/30 [==============================] - 1s 33ms/step - loss: 0.0177 - accuracy: 0.9967 - val_loss: 0.3619 - val_accuracy: 0.9025\n",
            "Epoch 12/20\n",
            "30/30 [==============================] - 1s 33ms/step - loss: 0.0133 - accuracy: 0.9980 - val_loss: 0.3804 - val_accuracy: 0.9032\n",
            "Epoch 13/20\n",
            "30/30 [==============================] - 1s 33ms/step - loss: 0.0122 - accuracy: 0.9983 - val_loss: 0.4169 - val_accuracy: 0.9008\n",
            "Epoch 14/20\n",
            "30/30 [==============================] - 1s 34ms/step - loss: 0.0118 - accuracy: 0.9974 - val_loss: 0.4443 - val_accuracy: 0.8987\n",
            "Epoch 15/20\n",
            "30/30 [==============================] - 1s 34ms/step - loss: 0.0048 - accuracy: 0.9998 - val_loss: 0.4685 - val_accuracy: 0.8970\n",
            "Epoch 16/20\n",
            "30/30 [==============================] - 1s 33ms/step - loss: 0.0084 - accuracy: 0.9982 - val_loss: 0.4990 - val_accuracy: 0.8952\n",
            "Epoch 17/20\n",
            "30/30 [==============================] - 1s 33ms/step - loss: 0.0029 - accuracy: 0.9999 - val_loss: 0.5298 - val_accuracy: 0.8918\n",
            "Epoch 18/20\n",
            "30/30 [==============================] - 1s 33ms/step - loss: 0.0060 - accuracy: 0.9987 - val_loss: 0.5571 - val_accuracy: 0.8926\n",
            "Epoch 19/20\n",
            "30/30 [==============================] - 1s 33ms/step - loss: 0.0018 - accuracy: 0.9999 - val_loss: 0.5840 - val_accuracy: 0.8920\n",
            "Epoch 20/20\n",
            "30/30 [==============================] - 1s 33ms/step - loss: 0.0055 - accuracy: 0.9989 - val_loss: 0.6267 - val_accuracy: 0.8883\n"
          ],
          "name": "stdout"
        },
        {
          "output_type": "display_data",
          "data": {
            "image/png": "[encoded data removed]",
            "text/plain": [
              "<Figure size 432x288 with 1 Axes>"
            ]
          },
          "metadata": {
            "tags": [],
            "needs_background": "light"
          }
        },
        {
          "output_type": "display_data",
          "data": {
            "image/png": "[encoded data removed]",
            "text/plain": [
              "<Figure size 432x288 with 1 Axes>"
            ]
          },
          "metadata": {
            "tags": [],
            "needs_background": "light"
          }
        }
      ]
    },
    {
      "cell_type": "markdown",
      "metadata": {
        "id": "p-s_tg5LU-Ta"
      },
      "source": [
        "### **2.3 Observations**:\n",
        "* The bigger network starts overfitting almost right away, after just one epoch, and overfitting seems to be very high in this case.\n",
        "* At **Epoch 3** , we are over optimizing the training data. Lets retrain the model with epoch=3 and validate the results.\n",
        "\n"
      ]
    },
    {
      "cell_type": "code",
      "metadata": {
        "colab": {
          "base_uri": "https://localhost:8080/"
        },
        "id": "pw5QzLQdvGK7",
        "outputId": "caaf66ba-26b8-4e29-a7e4-91c50f65bef1"
      },
      "source": [
        "#Retraining the moreunit_Model with 2 Epochs\n",
        "tf.random.set_seed(13)\n",
        "\n",
        "moreunits_model = models.Sequential()\n",
        "moreunits_model.add(layers.Dense(32, activation='relu', input_shape=(10000,)))\n",
        "moreunits_model.add(layers.Dense(32, activation='relu'))\n",
        "moreunits_model.add(layers.Dense(1, activation='sigmoid'))\n",
        "\n",
        "moreunits_model.compile(optimizer='rmsprop',\n",
        "              loss='binary_crossentropy',\n",
        "              metrics=['accuracy'])\n",
        "\n",
        "moreunits_model.fit(x_train, y_train, epochs=3, batch_size=512)\n",
        "moreunits_model_results = lessunits_model.evaluate(x_test, y_test)\n",
        "\n",
        "print(moreunits_model_results)\n",
        "\n",
        "moreunits_model.predict(x_test)"
      ],
      "execution_count": 24,
      "outputs": [
        {
          "output_type": "stream",
          "text": [
            "Epoch 1/3\n",
            "49/49 [==============================] - 2s 32ms/step - loss: 0.5217 - accuracy: 0.7492\n",
            "Epoch 2/3\n",
            "49/49 [==============================] - 2s 31ms/step - loss: 0.2493 - accuracy: 0.9070\n",
            "Epoch 3/3\n",
            "49/49 [==============================] - 2s 32ms/step - loss: 0.1806 - accuracy: 0.9359\n",
            "782/782 [==============================] - 1s 2ms/step - loss: 0.9577 - accuracy: 0.8473\n",
            "[0.9577019810676575, 0.847320020198822]\n"
          ],
          "name": "stdout"
        },
        {
          "output_type": "execute_result",
          "data": {
            "text/plain": [
              "array([[0.26031265],\n",
              "       [0.9999625 ],\n",
              "       [0.9906814 ],\n",
              "       ...,\n",
              "       [0.24387652],\n",
              "       [0.14118788],\n",
              "       [0.86098605]], dtype=float32)"
            ]
          },
          "metadata": {
            "tags": []
          },
          "execution_count": 24
        }
      ]
    },
    {
      "cell_type": "markdown",
      "metadata": {
        "id": "KU4vsIYWP2Qe"
      },
      "source": [
        "\n",
        "\n",
        "---\n",
        "\n",
        "\n",
        "\n",
        "---\n",
        "\n",
        "\n",
        "## **2.4 Results**:\n",
        "* After retraining the new  model we can see that the performance for validation loss has down and for accuracy has reduced a little bit  ,lets validate the results with the original model:\n",
        "\n",
        "  * Average Accuracy on the new retrained model= 84.73% , original model=88.49%\n",
        "  * Average Loss on the  new retrained model    = 95%, original model=29%\n",
        "\n",
        "\n",
        "---\n",
        "\n",
        "\n",
        "\n",
        "---\n",
        "\n",
        "\n",
        "## **3. Changing the Loss function to MSE from Binary Cross-Entropy Loss**\n",
        "### **Binary Cross-Entropy**\n",
        "* Cross-entropy is the default loss function to use for binary classification problems.\n",
        "* It is intended for use with binary classification where the target values are in the set {0, 1}.\n",
        "\n",
        "### How it works?\n",
        "\n",
        "Cross-entropy will calculate a score that summarizes the **average difference between the actual and predicted probability distributions for predicting class 1.** The score is minimized and a **perfect cross-entropy value is 0**.\n",
        "\n",
        "Cross-entropy can be specified as the loss function in Keras by specifying ‘binary_crossentropy‘ when compiling the model.\n",
        "\n",
        "### **Mean Squared Error Loss**\n",
        "\n",
        "* The Mean Squared Error, or MSE, loss is the default loss to use for regression problems.\n",
        "\n",
        "### How it works?\n",
        "\n",
        "Mean squared error is calculated as the **average of the squared differences between the predicted and actual values**. The result is always positive regardless of the sign of the predicted and actual values and **a perfect value is 0.0.** The squaring means that larger mistakes result in more error than smaller mistakes, meaning that the **model is punished for making larger mistakes.**\n",
        "\n",
        "The mean squared error loss function can be used in Keras by specifying ‘mse‘ or ‘mean_squared_error‘ as the loss function when compiling the model.\n",
        "\n",
        "\n",
        "*Reference*:\n",
        "https://machinelearningmastery.com/how-to-choose-loss-functions-when-training-deep-learning-neural-networks/\n",
        "\n",
        "\n",
        "Let's try to use MSE loss function instead of binary_crossentropy loss function and check results ."
      ]
    },
    {
      "cell_type": "code",
      "metadata": {
        "id": "LGmZ8Ff9mIo_",
        "colab": {
          "base_uri": "https://localhost:8080/",
          "height": 1000
        },
        "outputId": "20bb0299-4533-4ed0-ec79-28453d0854a7"
      },
      "source": [
        "#Model 5 = MSE loss function\n",
        "\n",
        "#Building the network\n",
        "from keras import models\n",
        "from keras import layers\n",
        "tf.random.set_seed(14)\n",
        "\n",
        "mse_model = models.Sequential()\n",
        "mse_model.add(layers.Dense(16, activation='relu', input_shape=(10000,)))\n",
        "mse_model.add(layers.Dense(16, activation='relu'))\n",
        "mse_model.add(layers.Dense(1, activation='sigmoid'))\n",
        "\n",
        "\n",
        "\n",
        "# Configure Model: with the rmsprop optimizer and the mean_squared_error loss function. \n",
        "\n",
        "mse_model.compile(optimizer='rmsprop',\n",
        "              loss='mean_squared_error',\n",
        "              metrics=['accuracy'])\n",
        "\n",
        "\n",
        "\n",
        "#Train the Model\n",
        "mse_model_history = mse_model.fit(partial_x_train,\n",
        "                    partial_y_train,\n",
        "                    epochs=20,\n",
        "                    batch_size=512,\n",
        "                    validation_data=(x_val, y_val))\n",
        "\n",
        "mse_model_history_dict = mse_model_history.history\n",
        "mse_model_history_dict.keys()\n",
        "\n",
        "#Plot the training and validation loss side by side, as well as the training and validation accuracy:\n",
        "\n",
        "import matplotlib.pyplot as plt\n",
        "\n",
        "mse_model_history_accuracy = mse_model_history.history['accuracy']\n",
        "mse_model_history_val_accuracy = mse_model_history.history['val_accuracy']\n",
        "mse_model_history_loss = mse_model_history.history['loss']\n",
        "mse_model_history_val_loss = mse_model_history.history['val_loss']\n",
        "\n",
        "epochs = range(1, len(mse_model_history_accuracy) + 1)\n",
        "\n",
        "# \"bo\" is for \"blue dot\"\n",
        "plt.plot(epochs, mse_model_history_loss, 'bo', label='Training loss')\n",
        "# b is for \"solid blue line\"\n",
        "plt.plot(epochs, mse_model_history_val_loss, 'b', label='Validation loss')\n",
        "plt.title('Training and validation loss')\n",
        "plt.xlabel('Epochs')\n",
        "plt.ylabel('Loss')\n",
        "plt.legend()\n",
        "\n",
        "plt.show()\n",
        "\n",
        "plt.clf()   # clear figure\n",
        "\n",
        "\n",
        "plt.plot(epochs, mse_model_history_accuracy, 'bo', label='Training acc')\n",
        "plt.plot(epochs, mse_model_history_val_accuracy, 'b', label='Validation acc')\n",
        "plt.title('Training and validation accuracy')\n",
        "plt.xlabel('Epochs')\n",
        "plt.ylabel('Loss')\n",
        "plt.legend()\n",
        "\n",
        "plt.show()\n"
      ],
      "execution_count": 25,
      "outputs": [
        {
          "output_type": "stream",
          "text": [
            "Epoch 1/20\n",
            "30/30 [==============================] - 2s 54ms/step - loss: 0.2049 - accuracy: 0.7077 - val_loss: 0.1384 - val_accuracy: 0.8224\n",
            "Epoch 2/20\n",
            "30/30 [==============================] - 2s 51ms/step - loss: 0.1017 - accuracy: 0.8974 - val_loss: 0.0935 - val_accuracy: 0.8872\n",
            "Epoch 3/20\n",
            "30/30 [==============================] - 1s 35ms/step - loss: 0.0666 - accuracy: 0.9303 - val_loss: 0.0853 - val_accuracy: 0.8892\n",
            "Epoch 4/20\n",
            "30/30 [==============================] - 1s 36ms/step - loss: 0.0495 - accuracy: 0.9500 - val_loss: 0.0843 - val_accuracy: 0.8875\n",
            "Epoch 5/20\n",
            "30/30 [==============================] - 1s 34ms/step - loss: 0.0410 - accuracy: 0.9594 - val_loss: 0.0888 - val_accuracy: 0.8796\n",
            "Epoch 6/20\n",
            "30/30 [==============================] - 1s 35ms/step - loss: 0.0325 - accuracy: 0.9669 - val_loss: 0.0871 - val_accuracy: 0.8819\n",
            "Epoch 7/20\n",
            "30/30 [==============================] - 1s 36ms/step - loss: 0.0256 - accuracy: 0.9760 - val_loss: 0.0956 - val_accuracy: 0.8749\n",
            "Epoch 8/20\n",
            "30/30 [==============================] - 1s 35ms/step - loss: 0.0228 - accuracy: 0.9775 - val_loss: 0.0892 - val_accuracy: 0.8803\n",
            "Epoch 9/20\n",
            "30/30 [==============================] - 1s 35ms/step - loss: 0.0158 - accuracy: 0.9885 - val_loss: 0.0934 - val_accuracy: 0.8766\n",
            "Epoch 10/20\n",
            "30/30 [==============================] - 1s 34ms/step - loss: 0.0133 - accuracy: 0.9895 - val_loss: 0.0936 - val_accuracy: 0.8768\n",
            "Epoch 11/20\n",
            "30/30 [==============================] - 1s 35ms/step - loss: 0.0113 - accuracy: 0.9906 - val_loss: 0.0962 - val_accuracy: 0.8751\n",
            "Epoch 12/20\n",
            "30/30 [==============================] - 1s 36ms/step - loss: 0.0087 - accuracy: 0.9934 - val_loss: 0.0977 - val_accuracy: 0.8759\n",
            "Epoch 13/20\n",
            "30/30 [==============================] - 1s 36ms/step - loss: 0.0079 - accuracy: 0.9941 - val_loss: 0.1024 - val_accuracy: 0.8709\n",
            "Epoch 14/20\n",
            "30/30 [==============================] - 1s 35ms/step - loss: 0.0066 - accuracy: 0.9950 - val_loss: 0.1020 - val_accuracy: 0.8710\n",
            "Epoch 15/20\n",
            "30/30 [==============================] - 1s 36ms/step - loss: 0.0047 - accuracy: 0.9964 - val_loss: 0.1050 - val_accuracy: 0.8696\n",
            "Epoch 16/20\n",
            "30/30 [==============================] - 1s 35ms/step - loss: 0.0043 - accuracy: 0.9969 - val_loss: 0.1056 - val_accuracy: 0.8690\n",
            "Epoch 17/20\n",
            "30/30 [==============================] - 1s 35ms/step - loss: 0.0055 - accuracy: 0.9949 - val_loss: 0.1066 - val_accuracy: 0.8678\n",
            "Epoch 18/20\n",
            "30/30 [==============================] - 1s 36ms/step - loss: 0.0043 - accuracy: 0.9962 - val_loss: 0.1168 - val_accuracy: 0.8592\n",
            "Epoch 19/20\n",
            "30/30 [==============================] - 1s 35ms/step - loss: 0.0067 - accuracy: 0.9937 - val_loss: 0.1096 - val_accuracy: 0.8661\n",
            "Epoch 20/20\n",
            "30/30 [==============================] - 1s 35ms/step - loss: 0.0032 - accuracy: 0.9970 - val_loss: 0.1129 - val_accuracy: 0.8645\n"
          ],
          "name": "stdout"
        },
        {
          "output_type": "display_data",
          "data": {
            "image/png": "[encoded data removed]",
            "text/plain": [
              "<Figure size 432x288 with 1 Axes>"
            ]
          },
          "metadata": {
            "tags": [],
            "needs_background": "light"
          }
        },
        {
          "output_type": "display_data",
          "data": {
            "image/png": "[encoded data removed]",
            "text/plain": [
              "<Figure size 432x288 with 1 Axes>"
            ]
          },
          "metadata": {
            "tags": [],
            "needs_background": "light"
          }
        }
      ]
    },
    {
      "cell_type": "markdown",
      "metadata": {
        "id": "DZVzvvZLpku2"
      },
      "source": [
        "\n",
        "### **3.1 Observations**:-\n",
        "* Afer increasing the units , we can see some  positive changes in the results of the charts for accuracy and loss.\n",
        "* As per the results ,It seems that with the increase in the epochs the difference in the **loss** for training and validation has increased, however accuracy seems to be improved.\n",
        "* At **Epoch 4** , we are over optimizing the training data. Lets retrain the model with epoch=5 and validate the results.\n",
        "\n"
      ]
    },
    {
      "cell_type": "code",
      "metadata": {
        "colab": {
          "base_uri": "https://localhost:8080/"
        },
        "id": "Wh6uwxUSCcw_",
        "outputId": "0d1fd792-0466-4fc4-84be-2025c3e85d51"
      },
      "source": [
        "#Retraining the MSE Model \n",
        "tf.random.set_seed(15)\n",
        "\n",
        "mse_model = models.Sequential()\n",
        "mse_model.add(layers.Dense(16, activation='relu', input_shape=(10000,)))\n",
        "mse_model.add(layers.Dense(16, activation='relu'))\n",
        "mse_model.add(layers.Dense(1, activation='sigmoid'))\n",
        "\n",
        "mse_model.compile(optimizer='rmsprop',\n",
        "              loss='mean_squared_error',\n",
        "              metrics=['accuracy'])\n",
        "\n",
        "mse_model.fit(x_train, y_train, epochs=4, batch_size=512)\n",
        "mse_model_results = mse_model.evaluate(x_test, y_test)\n",
        "\n",
        "print(mse_model_results)\n",
        "\n",
        "mse_model.predict(x_test)"
      ],
      "execution_count": 26,
      "outputs": [
        {
          "output_type": "stream",
          "text": [
            "Epoch 1/4\n",
            "49/49 [==============================] - 2s 28ms/step - loss: 0.1982 - accuracy: 0.7214\n",
            "Epoch 2/4\n",
            "49/49 [==============================] - 1s 27ms/step - loss: 0.0898 - accuracy: 0.9073\n",
            "Epoch 3/4\n",
            "49/49 [==============================] - 1s 27ms/step - loss: 0.0607 - accuracy: 0.9327\n",
            "Epoch 4/4\n",
            "49/49 [==============================] - 1s 27ms/step - loss: 0.0484 - accuracy: 0.9460\n",
            "782/782 [==============================] - 1s 2ms/step - loss: 0.0930 - accuracy: 0.8750\n",
            "[0.09295962750911713, 0.8750399947166443]\n"
          ],
          "name": "stdout"
        },
        {
          "output_type": "execute_result",
          "data": {
            "text/plain": [
              "array([[0.12203729],\n",
              "       [0.9929116 ],\n",
              "       [0.6891459 ],\n",
              "       ...,\n",
              "       [0.11237174],\n",
              "       [0.06757283],\n",
              "       [0.48700517]], dtype=float32)"
            ]
          },
          "metadata": {
            "tags": []
          },
          "execution_count": 26
        }
      ]
    },
    {
      "cell_type": "markdown",
      "metadata": {
        "id": "6p2C9C8Ebg-V"
      },
      "source": [
        "\n",
        "\n",
        "\n",
        "---\n",
        "\n",
        "\n",
        "\n",
        "---\n",
        "\n",
        "\n",
        "## **3.2 Results**:\n",
        "The use of MSE function has definately brought some changes in the result and perfromance .\n",
        "\n",
        "\n",
        "* After retraining the new  model we can see that the performance has improved for validation loss and accuracy ,lets validate the results with the original model:\n",
        "\n",
        "  * Average Accuracy on the new retrained model= 87.5% , original model=88.49%\n",
        "  * Average Loss on the  new retrained model    = 9.2%, original model=29%\n",
        "* So far the best performance has  come from MSE model. \n",
        "\n",
        "\n",
        "\n",
        "\n",
        "\n",
        "---\n",
        "\n",
        "\n",
        "\n",
        "---\n",
        "# **4.Changing Activation function to Tanh from Relu**\n",
        "\n",
        "\n",
        "**Tanh**\n",
        "\n",
        "Tanh is also a very popular and widely used activation function.\n",
        "\n",
        "It is nonlinear in nature and it is bound to **range (-1, 1)**. The gradient is stronger for tanh than sigmoid ( derivatives are steeper).\n",
        "\n",
        "\n",
        "ReLu is l**ess computationally expensive than tanh and sigmoid** because it involves simpler mathematical operations. That is a good point to consider when we are designing deep neural nets.\n",
        "\n",
        "*Reference*:https://www.aitude.com/comparison-of-sigmoid-tanh-and-relu-activation-functions/\n",
        "\n",
        "\n",
        "Let's try to use tanh activation function instead of relu activation function and validate the results:\n"
      ]
    },
    {
      "cell_type": "code",
      "metadata": {
        "id": "pgK79XmWELy2",
        "colab": {
          "base_uri": "https://localhost:8080/",
          "height": 1000
        },
        "outputId": "c774aec2-64bb-4df3-98a9-9b23465a02b2"
      },
      "source": [
        "#Model 6 =tanh\n",
        "#Buidling the Network\n",
        "from keras import models\n",
        "from keras import layers\n",
        "tf.random.set_seed(16)\n",
        "\n",
        "tanh_model = models.Sequential()\n",
        "tanh_model.add(layers.Dense(16, activation='tanh', input_shape=(10000,)))\n",
        "tanh_model.add(layers.Dense(16, activation='tanh'))\n",
        "tanh_model.add(layers.Dense(1, activation='sigmoid'))\n",
        "\n",
        "# Configure Model: with the rmsprop optimizer and the binary_crossentropy loss function. \n",
        "\n",
        "tanh_model.compile(optimizer='rmsprop',\n",
        "              loss='binary_crossentropy',\n",
        "              metrics=['accuracy'])\n",
        "\n",
        "\n",
        "\n",
        "\n",
        "\n",
        "# Training the Model\n",
        "tanh_model_history = tanh_model.fit(partial_x_train,\n",
        "                    partial_y_train,\n",
        "                    epochs=20,\n",
        "                    batch_size=512,\n",
        "                    validation_data=(x_val, y_val))\n",
        "\n",
        "tanh_model_history_dict = tanh_model_history.history\n",
        "tanh_model_history_dict.keys()\n",
        "\n",
        "#Plot the training and validation loss side by side, as well as the training and validation accuracy:\n",
        "\n",
        "import matplotlib.pyplot as plt\n",
        "\n",
        "tanh_model_history_accuracy = tanh_model_history.history['accuracy']\n",
        "tanh_model_history_val_accuracy = tanh_model_history.history['val_accuracy']\n",
        "tanh_model_history_loss = tanh_model_history.history['loss']\n",
        "tanh_model_history_val_loss = tanh_model_history.history['val_loss']\n",
        "\n",
        "epochs = range(1, len(tanh_model_history_accuracy) + 1)\n",
        "\n",
        "# \"bo\" is for \"blue dot\"\n",
        "plt.plot(epochs, tanh_model_history_loss, 'bo', label='Training loss')\n",
        "# b is for \"solid blue line\"\n",
        "plt.plot(epochs, tanh_model_history_val_loss, 'b', label='Validation loss')\n",
        "plt.title('Training and validation loss')\n",
        "plt.xlabel('Epochs')\n",
        "plt.ylabel('Loss')\n",
        "plt.legend()\n",
        "\n",
        "plt.show()\n",
        "\n",
        "plt.clf()   # clear figure\n",
        "\n",
        "plt.plot(epochs, tanh_model_history_accuracy, 'bo', label='Training acc')\n",
        "plt.plot(epochs, tanh_model_history_val_accuracy, 'b', label='Validation acc')\n",
        "plt.title('Training and validation accuracy')\n",
        "plt.xlabel('Epochs')\n",
        "plt.ylabel('Loss')\n",
        "plt.legend()\n",
        "\n",
        "plt.show()\n"
      ],
      "execution_count": 27,
      "outputs": [
        {
          "output_type": "stream",
          "text": [
            "Epoch 1/20\n",
            "30/30 [==============================] - 2s 43ms/step - loss: 0.5624 - accuracy: 0.7215 - val_loss: 0.3587 - val_accuracy: 0.8751\n",
            "Epoch 2/20\n",
            "30/30 [==============================] - 1s 36ms/step - loss: 0.2922 - accuracy: 0.9084 - val_loss: 0.2946 - val_accuracy: 0.8842\n",
            "Epoch 3/20\n",
            "30/30 [==============================] - 1s 36ms/step - loss: 0.1981 - accuracy: 0.9382 - val_loss: 0.2734 - val_accuracy: 0.8889\n",
            "Epoch 4/20\n",
            "30/30 [==============================] - 1s 36ms/step - loss: 0.1452 - accuracy: 0.9550 - val_loss: 0.2863 - val_accuracy: 0.8861\n",
            "Epoch 5/20\n",
            "30/30 [==============================] - 1s 36ms/step - loss: 0.1096 - accuracy: 0.9668 - val_loss: 0.3112 - val_accuracy: 0.8807\n",
            "Epoch 6/20\n",
            "30/30 [==============================] - 1s 36ms/step - loss: 0.0846 - accuracy: 0.9742 - val_loss: 0.4029 - val_accuracy: 0.8639\n",
            "Epoch 7/20\n",
            "30/30 [==============================] - 1s 36ms/step - loss: 0.0685 - accuracy: 0.9801 - val_loss: 0.3846 - val_accuracy: 0.8775\n",
            "Epoch 8/20\n",
            "30/30 [==============================] - 1s 36ms/step - loss: 0.0495 - accuracy: 0.9858 - val_loss: 0.4153 - val_accuracy: 0.8717\n",
            "Epoch 9/20\n",
            "30/30 [==============================] - 1s 36ms/step - loss: 0.0336 - accuracy: 0.9913 - val_loss: 0.4560 - val_accuracy: 0.8714\n",
            "Epoch 10/20\n",
            "30/30 [==============================] - 1s 36ms/step - loss: 0.0226 - accuracy: 0.9961 - val_loss: 0.6517 - val_accuracy: 0.8390\n",
            "Epoch 11/20\n",
            "30/30 [==============================] - 1s 36ms/step - loss: 0.0424 - accuracy: 0.9851 - val_loss: 0.5573 - val_accuracy: 0.8674\n",
            "Epoch 12/20\n",
            "30/30 [==============================] - 1s 36ms/step - loss: 0.0151 - accuracy: 0.9971 - val_loss: 0.5843 - val_accuracy: 0.8680\n",
            "Epoch 13/20\n",
            "30/30 [==============================] - 1s 36ms/step - loss: 0.0070 - accuracy: 0.9995 - val_loss: 0.6222 - val_accuracy: 0.8685\n",
            "Epoch 14/20\n",
            "30/30 [==============================] - 1s 36ms/step - loss: 0.0117 - accuracy: 0.9971 - val_loss: 0.6553 - val_accuracy: 0.8674\n",
            "Epoch 15/20\n",
            "30/30 [==============================] - 1s 37ms/step - loss: 0.0032 - accuracy: 0.9994 - val_loss: 0.6831 - val_accuracy: 0.8657\n",
            "Epoch 16/20\n",
            "30/30 [==============================] - 1s 37ms/step - loss: 0.0080 - accuracy: 0.9979 - val_loss: 0.7117 - val_accuracy: 0.8638\n",
            "Epoch 17/20\n",
            "30/30 [==============================] - 1s 36ms/step - loss: 0.0022 - accuracy: 0.9998 - val_loss: 0.7369 - val_accuracy: 0.8644\n",
            "Epoch 18/20\n",
            "30/30 [==============================] - 1s 37ms/step - loss: 0.0011 - accuracy: 1.0000 - val_loss: 0.7854 - val_accuracy: 0.8616\n",
            "Epoch 19/20\n",
            "30/30 [==============================] - 1s 36ms/step - loss: 0.0099 - accuracy: 0.9977 - val_loss: 0.8074 - val_accuracy: 0.8618\n",
            "Epoch 20/20\n",
            "30/30 [==============================] - 1s 35ms/step - loss: 0.0010 - accuracy: 0.9999 - val_loss: 0.8198 - val_accuracy: 0.8612\n"
          ],
          "name": "stdout"
        },
        {
          "output_type": "display_data",
          "data": {
            "image/png": "[encoded data removed]",
            "text/plain": [
              "<Figure size 432x288 with 1 Axes>"
            ]
          },
          "metadata": {
            "tags": [],
            "needs_background": "light"
          }
        },
        {
          "output_type": "display_data",
          "data": {
            "image/png": "[encoded data removed]",
            "text/plain": [
              "<Figure size 432x288 with 1 Axes>"
            ]
          },
          "metadata": {
            "tags": [],
            "needs_background": "light"
          }
        }
      ]
    },
    {
      "cell_type": "markdown",
      "metadata": {
        "id": "X6-zBhXdSOgm"
      },
      "source": [
        "### **4.1 Observations**:-\n",
        "* This approach with 20 Epoch seems to be not working at all. \n",
        "* At **Epoch 3** , we are over optimizing the training data. Lets retrain the model with epoch=3 and validate the results."
      ]
    },
    {
      "cell_type": "code",
      "metadata": {
        "colab": {
          "base_uri": "https://localhost:8080/"
        },
        "id": "jL84P8f-E4dg",
        "outputId": "3e0f6b11-bdf8-4f2c-95ad-1b28211e6755"
      },
      "source": [
        "# Retraining the tanh Model with 3 Epochs\n",
        "tf.random.set_seed(17)\n",
        "tanh_model = models.Sequential()\n",
        "tanh_model.add(layers.Dense(16, activation='relu', input_shape=(10000,)))\n",
        "tanh_model.add(layers.Dense(16, activation='relu'))\n",
        "tanh_model.add(layers.Dense(1, activation='sigmoid'))\n",
        "\n",
        "tanh_model.compile(optimizer='rmsprop',\n",
        "              loss='binary_crossentropy',\n",
        "              metrics=['accuracy'])\n",
        "\n",
        "tanh_model.fit(x_train, y_train, epochs=3, batch_size=512)\n",
        "tanh_model_results = tanh_model.evaluate(x_test, y_test)\n",
        "\n",
        "print(tanh_model_results)\n",
        "\n",
        "tanh_model.predict(x_test)"
      ],
      "execution_count": 28,
      "outputs": [
        {
          "output_type": "stream",
          "text": [
            "Epoch 1/3\n",
            "49/49 [==============================] - 2s 25ms/step - loss: 0.5534 - accuracy: 0.7443\n",
            "Epoch 2/3\n",
            "49/49 [==============================] - 1s 25ms/step - loss: 0.2698 - accuracy: 0.9110\n",
            "Epoch 3/3\n",
            "49/49 [==============================] - 1s 25ms/step - loss: 0.1996 - accuracy: 0.9312\n",
            "782/782 [==============================] - 1s 2ms/step - loss: 0.2789 - accuracy: 0.8880\n",
            "[0.27885952591896057, 0.8880400061607361]\n"
          ],
          "name": "stdout"
        },
        {
          "output_type": "execute_result",
          "data": {
            "text/plain": [
              "array([[0.23652014],\n",
              "       [0.99974054],\n",
              "       [0.9322206 ],\n",
              "       ...,\n",
              "       [0.1029627 ],\n",
              "       [0.10756189],\n",
              "       [0.63080627]], dtype=float32)"
            ]
          },
          "metadata": {
            "tags": []
          },
          "execution_count": 28
        }
      ]
    },
    {
      "cell_type": "markdown",
      "metadata": {
        "id": "22zzVr2dGQFS"
      },
      "source": [
        "\n",
        "\n",
        "---\n",
        "\n",
        "\n",
        "\n",
        "---\n",
        "\n",
        "\n",
        "## **4.2 Results**:\n",
        "The use of Tanh activation function has definately brought some slight positive changes in the result and performance .\n",
        "\n",
        "\n",
        "* After retraining the new  model we can see that the performance has improved for validation loss and accuracy ,lets validate the results with the original model:\n",
        "\n",
        "  * Average Accuracy on the new retrained model= 88.8% , original model=88.49%\n",
        "  * Average Loss on the  new retrained model    = 27.8%, original model=29%\n",
        "* This model has shown some improvements in the performance .\n",
        "\n",
        "\n",
        "\n",
        "\n",
        "\n",
        "\n",
        "---\n",
        "\n",
        "\n",
        "\n",
        "---"
      ]
    },
    {
      "cell_type": "markdown",
      "metadata": {
        "id": "hCQPB-fePAtC"
      },
      "source": [
        "# **5. Regularization**\n",
        "Regularization is a technique which makes slight modifications to the learning algorithm such that the model generalizes better. This in turn improves the model's performance on the unseen data as well.\n",
        "We can try using the **weight regularisation** technique  to prevent overfitting.\n",
        "\n",
        "##**5.1 Weight Regularization**\n",
        "\n",
        "# How it works ?\n",
        "\n",
        "* It is a method which puts constraints on the complexity of a network by **forcing its weight values to be only small values**.Therefore it makes the distribution of weight values more \"regular\".\n",
        "* It basically **penalizes the model for memorization**.It is one of the best techniques to prevent a model from overfitting.\n",
        "* It has 2 categories ie L1 regularlization & L2 regularlization.\n",
        "\n",
        "\n",
        "Understanding the two categories  **L1** and **L2** regularization:-\n",
        "\n",
        "* **L1 regularization**, where the cost added is proportional to the absolute value of the weights coefficients (i.e. to what is called the \"L1 norm\" of the weights).\n",
        "\n",
        "* **L2 regularization**, where the cost added is proportional to the square of the value of the weights coefficients (i.e. to what is called the \"L2 norm\" of the weights). \n",
        "\n",
        "In Keras, weight regularization is added by passing weight regularizer instances to layers as keyword arguments. \n",
        "\n",
        "L2 is considered to be more **stable** and **computationaly less expensive** .In comparison, weight vectors from L2 regularization are usually diffuse, small numbers. \n",
        "L1 regularization is very useful when we  want to understand exactly which **features are contributing to a decision**. \n",
        "\n",
        "Therefore,we would like to implement L2 weight regularization.\n",
        "\n",
        "Let's add L2 weight regularization to our movie review classification network and validate the result."
      ]
    },
    {
      "cell_type": "code",
      "metadata": {
        "id": "MvPz8dFVPTIo",
        "colab": {
          "base_uri": "https://localhost:8080/",
          "height": 1000
        },
        "outputId": "e511a145-1c88-483d-9ad1-e8e173bc9f1f"
      },
      "source": [
        "from keras import regularizers\n",
        "tf.random.set_seed(18)\n",
        "l2_model = models.Sequential()\n",
        "l2_model.add(layers.Dense(16, kernel_regularizer=regularizers.l2(0.001),\n",
        "                          activation='relu', input_shape=(10000,)))\n",
        "l2_model.add(layers.Dense(16, kernel_regularizer=regularizers.l2(0.001),\n",
        "                          activation='relu'))\n",
        "l2_model.add(layers.Dense(1, activation='sigmoid'))\n",
        "\n",
        "l2_model.compile(optimizer='rmsprop',\n",
        "                 loss='binary_crossentropy',\n",
        "                 metrics=['acc'])\n",
        "\n",
        "l2_model_hist = l2_model.fit(partial_x_train,\n",
        "                    partial_y_train,\n",
        "                    epochs=20,\n",
        "                    batch_size=512,\n",
        "                    validation_data=(x_val, y_val))\n",
        "\n",
        "\n",
        "\n",
        "l2_model_hist_dict = l2_model_hist.history\n",
        "print(l2_model_hist_dict.keys())\n",
        "\n",
        "#Plot the training and validation loss side by side, as well as the training and validation accuracy:\n",
        "\n",
        "import matplotlib.pyplot as plt\n",
        "\n",
        "l2_model_hist_accuracy = l2_model_hist.history['acc']\n",
        "l2_model_hist_val_accuracy = l2_model_hist.history['val_acc']\n",
        "l2_model_hist_loss = l2_model_hist.history['loss']\n",
        "l2_model_hist_val_loss = l2_model_hist.history['val_loss']\n",
        "\n",
        "epochs = range(1, len(l2_model_hist_accuracy) + 1)\n",
        "\n",
        "\n",
        "# \"bo\" is for \"blue dot\"\n",
        "plt.plot(epochs, orig_val_loss, 'bo', label='Training loss')\n",
        "# b is for \"solid blue line\"\n",
        "plt.plot(epochs, l2_model_hist_val_loss, 'b', label='Validation loss')\n",
        "plt.title('Training and validation loss')\n",
        "plt.xlabel('Epochs')\n",
        "plt.ylabel('Loss')\n",
        "plt.legend()\n",
        "\n",
        "plt.show()\n",
        "\n",
        "plt.clf()  "
      ],
      "execution_count": 29,
      "outputs": [
        {
          "output_type": "stream",
          "text": [
            "Epoch 1/20\n",
            "30/30 [==============================] - 2s 43ms/step - loss: 0.6474 - acc: 0.6787 - val_loss: 0.4365 - val_acc: 0.8732\n",
            "Epoch 2/20\n",
            "30/30 [==============================] - 1s 39ms/step - loss: 0.3837 - acc: 0.8986 - val_loss: 0.3575 - val_acc: 0.8853\n",
            "Epoch 3/20\n",
            "30/30 [==============================] - 1s 39ms/step - loss: 0.2939 - acc: 0.9226 - val_loss: 0.3346 - val_acc: 0.8886\n",
            "Epoch 4/20\n",
            "30/30 [==============================] - 1s 39ms/step - loss: 0.2533 - acc: 0.9346 - val_loss: 0.3271 - val_acc: 0.8905\n",
            "Epoch 5/20\n",
            "30/30 [==============================] - 1s 40ms/step - loss: 0.2284 - acc: 0.9463 - val_loss: 0.3346 - val_acc: 0.8871\n",
            "Epoch 6/20\n",
            "30/30 [==============================] - 1s 39ms/step - loss: 0.2107 - acc: 0.9517 - val_loss: 0.3390 - val_acc: 0.8855\n",
            "Epoch 7/20\n",
            "30/30 [==============================] - 1s 39ms/step - loss: 0.1943 - acc: 0.9610 - val_loss: 0.3668 - val_acc: 0.8792\n",
            "Epoch 8/20\n",
            "30/30 [==============================] - 1s 39ms/step - loss: 0.1826 - acc: 0.9656 - val_loss: 0.3567 - val_acc: 0.8827\n",
            "Epoch 9/20\n",
            "30/30 [==============================] - 1s 39ms/step - loss: 0.1754 - acc: 0.9656 - val_loss: 0.3614 - val_acc: 0.8820\n",
            "Epoch 10/20\n",
            "30/30 [==============================] - 1s 39ms/step - loss: 0.1727 - acc: 0.9670 - val_loss: 0.4331 - val_acc: 0.8581\n",
            "Epoch 11/20\n",
            "30/30 [==============================] - 1s 39ms/step - loss: 0.1730 - acc: 0.9649 - val_loss: 0.3765 - val_acc: 0.8798\n",
            "Epoch 12/20\n",
            "30/30 [==============================] - 1s 39ms/step - loss: 0.1632 - acc: 0.9701 - val_loss: 0.3842 - val_acc: 0.8795\n",
            "Epoch 13/20\n",
            "30/30 [==============================] - 1s 39ms/step - loss: 0.1516 - acc: 0.9761 - val_loss: 0.4300 - val_acc: 0.8706\n",
            "Epoch 14/20\n",
            "30/30 [==============================] - 1s 40ms/step - loss: 0.1503 - acc: 0.9779 - val_loss: 0.4046 - val_acc: 0.8740\n",
            "Epoch 15/20\n",
            "30/30 [==============================] - 1s 39ms/step - loss: 0.1448 - acc: 0.9778 - val_loss: 0.4729 - val_acc: 0.8586\n",
            "Epoch 16/20\n",
            "30/30 [==============================] - 1s 39ms/step - loss: 0.1531 - acc: 0.9714 - val_loss: 0.4378 - val_acc: 0.8664\n",
            "Epoch 17/20\n",
            "30/30 [==============================] - 1s 39ms/step - loss: 0.1369 - acc: 0.9808 - val_loss: 0.4259 - val_acc: 0.8716\n",
            "Epoch 18/20\n",
            "30/30 [==============================] - 1s 39ms/step - loss: 0.1389 - acc: 0.9801 - val_loss: 0.4554 - val_acc: 0.8649\n",
            "Epoch 19/20\n",
            "30/30 [==============================] - 1s 39ms/step - loss: 0.1449 - acc: 0.9744 - val_loss: 0.4419 - val_acc: 0.8723\n",
            "Epoch 20/20\n",
            "30/30 [==============================] - 1s 38ms/step - loss: 0.1359 - acc: 0.9800 - val_loss: 0.4463 - val_acc: 0.8709\n",
            "dict_keys(['loss', 'acc', 'val_loss', 'val_acc'])\n"
          ],
          "name": "stdout"
        },
        {
          "output_type": "display_data",
          "data": {
            "image/png": "[encoded data removed]",
            "text/plain": [
              "<Figure size 432x288 with 1 Axes>"
            ]
          },
          "metadata": {
            "tags": [],
            "needs_background": "light"
          }
        },
        {
          "output_type": "display_data",
          "data": {
            "text/plain": [
              "<Figure size 432x288 with 0 Axes>"
            ]
          },
          "metadata": {
            "tags": []
          }
        }
      ]
    },
    {
      "cell_type": "markdown",
      "metadata": {
        "id": "FQDNi-ltweu7"
      },
      "source": [
        "### 5.2 Impact of L2 Regularization Penalty:\n",
        "\n",
        "\n",
        "\n",
        "\n",
        "As we can see above , the validation loss seems to be almost consistent with the values  and therefore more resistant to overfitting.\n",
        "\n",
        "This might  possibly happen that all values go towards the mean reducing all values in the predicted matrix including the ones used by the cross entropy or a tiny regularization will reduce variance within the predicted numbers.\n",
        "\n",
        "*Reference*:https://stats.stackexchange.com/questions/408507/constant-validation-loss-and-increasing-validation-accuracy"
      ]
    },
    {
      "cell_type": "markdown",
      "metadata": {
        "id": "7jkOgAfwl1cm"
      },
      "source": [
        "\n",
        "\n",
        "##**5.3 Dropout** **Regularization**\n",
        "\n",
        "It is a simple way to Prevent Neural Networks from Overfitting because the outputs of a layer under **dropout are randomly subsampled**, it has the effect of reducing the capacity or thinning the network during training. As such, a wider network, e.g. more nodes, may be required when using dropout.\n",
        "Dropout regularization is a **generic approach**.\n",
        "\n",
        "Like other regularization methods, dropout is more effective on those problems where there is a limited amount of training data and the model is likely to overfit the training data.\n",
        "# how it works?\n",
        "\n",
        "**Deciding the hyper parameter** : \n",
        "\n",
        "* The default interpretation of the dropout hyperparameter is the probability of training a given node in a layer, where **1.0 means no dropout**, and **0.0 means no outputs from the layer**.\n",
        "\n",
        "* A good value for dropout in a hidden layer is **between 0.5 and 0.8**. Input layers use a larger dropout rate, such as of 0.8.\n",
        "\n",
        "**Process**:\n",
        "\n",
        " * The outputs of a layer under dropout are randomly subsampled, it has the effect of reducing the capacity or thinning the network during training. As such, a wider network, e.g. more nodes, may be required when using dropout.\n",
        "\n",
        "* During training, some number of layer outputs are randomly ignored or “dropped out.” This has the effect of making the layer look-like and be treated-like a layer with a different number of nodes and connectivity to the prior layer. In effect, each update to a layer during training is performed with a different “view” of the configured layer.\n",
        "\n",
        "\n",
        "\n",
        "\n",
        "\n",
        "\n",
        "\n",
        "\n",
        "\n",
        "*Reference*:https://machinelearningmastery.com/dropout-for-regularizing-deep-neural-networks/"
      ]
    },
    {
      "cell_type": "code",
      "metadata": {
        "id": "4Hf8fW6uDKdt",
        "colab": {
          "base_uri": "https://localhost:8080/",
          "height": 959
        },
        "outputId": "02a6515c-0f64-4107-c3f8-2d8e3674f390"
      },
      "source": [
        "# At training time: we drop out 50% of the units in the output\n",
        "\n",
        "tf.random.set_seed(21)\n",
        "\n",
        "dpt_model = models.Sequential()\n",
        "dpt_model.add(layers.Dense(16, activation='relu', input_shape=(10000,)))\n",
        "dpt_model.add(layers.Dropout(0.5))\n",
        "dpt_model.add(layers.Dense(16, activation='relu'))\n",
        "dpt_model.add(layers.Dropout(0.5))\n",
        "dpt_model.add(layers.Dense(1, activation='sigmoid'))\n",
        "\n",
        "dpt_model.compile(optimizer='rmsprop',\n",
        "                  loss='binary_crossentropy',\n",
        "                  metrics=['acc'])\n",
        "\n",
        "dpt_model_hist = dpt_model.fit(x_train, y_train,\n",
        "                               epochs=20,\n",
        "                               batch_size=512,\n",
        "                               validation_data=(x_test, y_test))\n",
        "\n",
        "dpt_model_val_loss = dpt_model_hist.history['val_loss']\n",
        "\n",
        "plt.plot(epochs, orig_val_loss, 'b+', label='Original model')\n",
        "plt.plot(epochs, dpt_model_val_loss, 'bo', label='Dropout-regularized model')\n",
        "plt.xlabel('Epochs')\n",
        "plt.ylabel('Validation loss')\n",
        "plt.legend()\n",
        "\n",
        "plt.show()\n"
      ],
      "execution_count": 31,
      "outputs": [
        {
          "output_type": "stream",
          "text": [
            "Epoch 1/20\n",
            "49/49 [==============================] - 3s 60ms/step - loss: 0.6568 - acc: 0.6092 - val_loss: 0.4854 - val_acc: 0.8525\n",
            "Epoch 2/20\n",
            "49/49 [==============================] - 2s 39ms/step - loss: 0.4965 - acc: 0.7936 - val_loss: 0.3808 - val_acc: 0.8744\n",
            "Epoch 3/20\n",
            "49/49 [==============================] - 2s 36ms/step - loss: 0.3996 - acc: 0.8537 - val_loss: 0.3233 - val_acc: 0.8842\n",
            "Epoch 4/20\n",
            "49/49 [==============================] - 2s 36ms/step - loss: 0.3293 - acc: 0.8833 - val_loss: 0.3140 - val_acc: 0.8856\n",
            "Epoch 5/20\n",
            "49/49 [==============================] - 2s 36ms/step - loss: 0.2930 - acc: 0.9040 - val_loss: 0.2934 - val_acc: 0.8830\n",
            "Epoch 6/20\n",
            "49/49 [==============================] - 2s 37ms/step - loss: 0.2627 - acc: 0.9129 - val_loss: 0.3034 - val_acc: 0.8857\n",
            "Epoch 7/20\n",
            "49/49 [==============================] - 2s 36ms/step - loss: 0.2367 - acc: 0.9252 - val_loss: 0.3064 - val_acc: 0.8847\n",
            "Epoch 8/20\n",
            "49/49 [==============================] - 2s 35ms/step - loss: 0.2209 - acc: 0.9313 - val_loss: 0.3437 - val_acc: 0.8831\n",
            "Epoch 9/20\n",
            "49/49 [==============================] - 2s 37ms/step - loss: 0.2042 - acc: 0.9359 - val_loss: 0.3376 - val_acc: 0.8796\n",
            "Epoch 10/20\n",
            "49/49 [==============================] - 2s 36ms/step - loss: 0.1857 - acc: 0.9450 - val_loss: 0.3556 - val_acc: 0.8799\n",
            "Epoch 11/20\n",
            "49/49 [==============================] - 2s 36ms/step - loss: 0.1689 - acc: 0.9466 - val_loss: 0.3679 - val_acc: 0.8786\n",
            "Epoch 12/20\n",
            "49/49 [==============================] - 2s 36ms/step - loss: 0.1662 - acc: 0.9491 - val_loss: 0.3941 - val_acc: 0.8796\n",
            "Epoch 13/20\n",
            "49/49 [==============================] - 2s 37ms/step - loss: 0.1598 - acc: 0.9542 - val_loss: 0.4162 - val_acc: 0.8796\n",
            "Epoch 14/20\n",
            "49/49 [==============================] - 2s 36ms/step - loss: 0.1490 - acc: 0.9552 - val_loss: 0.4321 - val_acc: 0.8756\n",
            "Epoch 15/20\n",
            "49/49 [==============================] - 2s 36ms/step - loss: 0.1451 - acc: 0.9570 - val_loss: 0.4484 - val_acc: 0.8732\n",
            "Epoch 16/20\n",
            "49/49 [==============================] - 2s 36ms/step - loss: 0.1384 - acc: 0.9577 - val_loss: 0.5067 - val_acc: 0.8782\n",
            "Epoch 17/20\n",
            "49/49 [==============================] - 2s 37ms/step - loss: 0.1363 - acc: 0.9591 - val_loss: 0.5002 - val_acc: 0.8761\n",
            "Epoch 18/20\n",
            "49/49 [==============================] - 2s 36ms/step - loss: 0.1265 - acc: 0.9634 - val_loss: 0.5189 - val_acc: 0.8760\n",
            "Epoch 19/20\n",
            "49/49 [==============================] - 2s 36ms/step - loss: 0.1201 - acc: 0.9634 - val_loss: 0.5575 - val_acc: 0.8766\n",
            "Epoch 20/20\n",
            "49/49 [==============================] - 2s 36ms/step - loss: 0.1138 - acc: 0.9655 - val_loss: 0.5769 - val_acc: 0.8758\n"
          ],
          "name": "stdout"
        },
        {
          "output_type": "display_data",
          "data": {
            "image/png": "[encoded data removed]",
            "text/plain": [
              "<Figure size 432x288 with 1 Axes>"
            ]
          },
          "metadata": {
            "tags": [],
            "needs_background": "light"
          }
        }
      ]
    },
    {
      "cell_type": "markdown",
      "metadata": {
        "id": "guAiWbDdXxrm"
      },
      "source": [
        "###5.4 Impact of Dropout Regularlization:\n",
        "This shows a **real improvement**  in the performance of the model.\n",
        "Problem of overfitting has been handled properly as we can see that difference between training loss and validation loss has  been reduced .\n",
        "This approach  which helps in **reducing interdependent learning** amongst the neurons has helped to **solve the the problem of overfitting**.\n",
        "\n",
        "---\n",
        "\n",
        "\n",
        "\n",
        "---\n",
        "\n"
      ]
    }
  ]
}